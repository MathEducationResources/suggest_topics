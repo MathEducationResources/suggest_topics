{
 "cells": [
  {
   "cell_type": "markdown",
   "metadata": {},
   "source": [
    "# Predict the topic of a Math Question on Math Education Resources"
   ]
  },
  {
   "cell_type": "markdown",
   "metadata": {},
   "source": [
    "We will use **Machine Learning** to predict the topic of a Math Question from the [Math Education Resources](http://math-education-resources.com). For simplicity we will only consider two topics. Using [multiclass classification](https://en.wikipedia.org/wiki/Multiclass_classification) this can be extended to more than two topics (at the time of writing, April 2015, we have about 1500 questions with 150 topics on MER)."
   ]
  },
  {
   "cell_type": "markdown",
   "metadata": {},
   "source": [
    "## Data inspection"
   ]
  },
  {
   "cell_type": "markdown",
   "metadata": {},
   "source": [
    "To Do:\n",
    "1. Clean up the code\n",
    "2. Get feature importance - pca\n",
    "3. Get the text -> vector of suggested topics\n",
    "4. Look at performance of different classifiers\n",
    "   a. Add additional features (course etc.)\n",
    "5. Add the suggested topics to the database for questions w/o a topic"
   ]
  },
  {
   "cell_type": "code",
   "execution_count": 90,
   "metadata": {
    "collapsed": true
   },
   "outputs": [],
   "source": [
    "import os\n",
    "import json\n",
    "import numpy as np\n",
    "from pymongo import MongoClient\n",
    "import matplotlib.pyplot as plt\n",
    "%matplotlib inline\n",
    "import pickle"
   ]
  },
  {
   "cell_type": "code",
   "execution_count": 2,
   "metadata": {
    "collapsed": true
   },
   "outputs": [],
   "source": [
    "client = MongoClient()"
   ]
  },
  {
   "cell_type": "code",
   "execution_count": 3,
   "metadata": {
    "collapsed": false
   },
   "outputs": [
    {
     "data": {
      "text/plain": [
       "{u'ID': u'UBC+MATH307+April_2012+01_(d)',\n",
       " u'_id': ObjectId('55383310cec2a2367cebc622'),\n",
       " u'answer_html': u'<p>No content found.</p>',\n",
       " u'answer_latex': u'No content found.',\n",
       " u'contributors': [u'Konradbe'],\n",
       " u'course': u'MATH307',\n",
       " u'flags': [u'RQ', u'CH', u'CS', u'CT'],\n",
       " u'hints_html': [u'<p>No content found.</p>'],\n",
       " u'hints_latex': [u'No content found.'],\n",
       " u'hints_raw': [u'No content found.'],\n",
       " u'num_votes': 0,\n",
       " u'question': u'1 (d)',\n",
       " u'rating': -1,\n",
       " u'sols_html': [u'<p>No content found.</p>'],\n",
       " u'sols_latex': [u'No content found.'],\n",
       " u'sols_raw': [u'No content found.'],\n",
       " u'statement_html': u'<p>Suppose you are given a set of <em>N</em> data points <em>(x<sub>n</sub>, y<sub>n</sub>)</em>, with <em>x<sub>n</sub></em> increasing, and you wish to interpolate these points with a spline function <em><span class=\"math\">\\\\(f\\\\)</span></em>, where <em><span class=\"math\">\\\\(f\\\\)</span>(x)</em> is given by the cubic polynomial <em>p<sub>n</sub>(x)</em> on each interval <em>(x<sub>n</sub>, x<sub>n+1</sub>)</em> for <em>n = 1, ..., N-1</em>:</p>\\n<p><span class=\"math\">\\\\[\\\\begin{aligned}\\n\\\\displaystyle\\np_n(x) = a_n(x-x_n)^3 + b_n(x-x_n)^2 + c_n(x-x_n) + d_n\\\\end{aligned}\\\\]</span></p>\\n<p><strong>(d)</strong> Write down the matrix equation to be solved for the coefficients of the polynomials in the case <em>N = 3</em>, with <em>x<sub>1</sub> = 1</em>, <em>x<sub>2</sub> = 2</em>, <em>x<sub>3</sub> = 3</em>.</p>',\n",
       " u'statement_latex': u'Suppose you are given a set of \\\\emph{N} data points\\n\\\\emph{(x\\\\textsubscript{n}, y\\\\textsubscript{n})}, with\\n\\\\emph{x\\\\textsubscript{n}} increasing, and you wish to interpolate these\\npoints with a spline function \\\\emph{$f$}, where \\\\emph{$f$(x)} is given by\\nthe cubic polynomial \\\\emph{p\\\\textsubscript{n}(x)} on each interval\\n\\\\emph{(x\\\\textsubscript{n}, x\\\\textsubscript{n+1})} for \\\\emph{n = 1, ...,\\nN-1}:\\n\\n\\\\begin{align*}\\n\\\\displaystyle\\np_n(x) = a_n(x-x_n)^3 + b_n(x-x_n)^2 + c_n(x-x_n) + d_n\\n\\\\end{align*}\\n\\n\\\\textbf{(d)} Write down the matrix equation to be solved for the\\ncoefficients of the polynomials in the case \\\\emph{N = 3}, with\\n\\\\emph{x\\\\textsubscript{1} = 1}, \\\\emph{x\\\\textsubscript{2} = 2},\\n\\\\emph{x\\\\textsubscript{3} = 3}.',\n",
       " u'statement_raw': u\"Suppose you are given a set of ''N'' data points ''(x&lt;sub>n&lt;/sub>, y&lt;sub>n&lt;/sub>)'', with ''x&lt;sub>n&lt;/sub>'' increasing, and you wish to interpolate these points with a spline function ''&amp;fnof;'', where ''&amp;fnof;(x)'' is given by the cubic polynomial ''p&lt;sub>n&lt;/sub>(x)'' on each interval ''(x&lt;sub>n&lt;/sub>, x&lt;sub>n+1&lt;/sub>)'' for ''n = 1, ..., N-1'':\\n\\n:&lt;math> \\\\displaystyle\\np_n(x) = a_n(x-x_n)^3 + b_n(x-x_n)^2 + c_n(x-x_n) + d_n\\n&lt;/math>\\n\\n'''(d)''' Write down the matrix equation to be solved for the coefficients of the polynomials in the case ''N = 3'', with ''x&lt;sub>1&lt;/sub> = 1'', ''x&lt;sub>2&lt;/sub> = 2'', ''x&lt;sub>3&lt;/sub> = 3''.\",\n",
       " u'term': u'April',\n",
       " u'url': u'http://wiki.ubc.ca/Science:Math_Exam_Resources/Courses/MATH307/April_2012/Question_01_(d)',\n",
       " u'year': 2012}"
      ]
     },
     "execution_count": 3,
     "metadata": {},
     "output_type": "execute_result"
    }
   ],
   "source": [
    "questions_collection = client['merdb'].questions\n",
    "\n",
    "questions_collection.find_one()"
   ]
  },
  {
   "cell_type": "code",
   "execution_count": 4,
   "metadata": {
    "collapsed": false
   },
   "outputs": [],
   "source": [
    "# create an array of all topics of interest\n",
    "\n",
    "topic_tags = [\"Eigenvalues_and_eigenvectors\", \"Probability_density_function\", \"Taylor_series\", \"Substitution\"]\n",
    "\n",
    "num_classes = len(topic_tags)"
   ]
  },
  {
   "cell_type": "code",
   "execution_count": 5,
   "metadata": {
    "collapsed": false
   },
   "outputs": [],
   "source": [
    "# create an array of questions with topics contained in topic_tags\n",
    "\n",
    "questions = []\n",
    "for q in questions_collection.find({\"topics\": \n",
    "                                         {\"$in\": topic_tags}\n",
    "                                        }):\n",
    "    questions.append(q)\n"
   ]
  },
  {
   "cell_type": "code",
   "execution_count": 6,
   "metadata": {
    "collapsed": false
   },
   "outputs": [
    {
     "name": "stdout",
     "output_type": "stream",
     "text": [
      "('Eigenvalues_and_eigenvectors', 45)\n",
      "('Probability_density_function', 39)\n",
      "('Taylor_series', 50)\n",
      "('Substitution', 37)\n"
     ]
    }
   ],
   "source": [
    "# count how many questions there are for each topic in topic_tags\n",
    "\n",
    "for t in topic_tags:\n",
    "    print(t, questions_collection.find({\"topics\": t}).count())\n",
    "    "
   ]
  },
  {
   "cell_type": "code",
   "execution_count": 7,
   "metadata": {
    "collapsed": false
   },
   "outputs": [
    {
     "data": {
      "text/plain": [
       "[u'rating',\n",
       " u'contributors',\n",
       " u'topics',\n",
       " u'year',\n",
       " u'answer_html',\n",
       " u'course',\n",
       " u'solvers',\n",
       " u'sols_raw',\n",
       " u'hints_html',\n",
       " u'question',\n",
       " u'statement_raw',\n",
       " u'num_votes',\n",
       " u'statement_html',\n",
       " u'term',\n",
       " u'statement_latex',\n",
       " u'hints_raw',\n",
       " u'hints_latex',\n",
       " u'ID',\n",
       " u'sols_latex',\n",
       " u'url',\n",
       " u'flags',\n",
       " u'answer_latex',\n",
       " u'sols_html',\n",
       " u'_id']"
      ]
     },
     "execution_count": 7,
     "metadata": {},
     "output_type": "execute_result"
    }
   ],
   "source": [
    "questions[77].keys()"
   ]
  },
  {
   "cell_type": "code",
   "execution_count": 8,
   "metadata": {
    "collapsed": true
   },
   "outputs": [],
   "source": [
    "# data preprocessing modules\n",
    "\n",
    "import helpers\n",
    "from nltk import PorterStemmer\n",
    "from nltk.corpus import stopwords\n",
    "from sklearn.preprocessing import label_binarize"
   ]
  },
  {
   "cell_type": "code",
   "execution_count": 9,
   "metadata": {
    "collapsed": false,
    "scrolled": true
   },
   "outputs": [
    {
     "name": "stdout",
     "output_type": "stream",
     "text": [
      "Eigenvalues_and_eigenvectors questions in test set: 30\n",
      "Probability_density_function questions in test set: 32\n",
      "Taylor_series questions in test set: 40\n",
      "Substitution questions in test set: 26\n"
     ]
    }
   ],
   "source": [
    "# split the questions into training and test\n",
    "\n",
    "\n",
    "# for reproducibility we set the seed of the random number generator\n",
    "np.random.seed(23)\n",
    "\n",
    "test_proportion = 0.75\n",
    "num_samples = int(test_proportion * len(questions))\n",
    "test_indices = np.random.choice(range(len(questions)), num_samples, replace=False)\n",
    "\n",
    "\n",
    "questions_train = [q for i, q in enumerate(questions) if not i in test_indices]\n",
    "questions_test = [q for i, q in enumerate(questions) if i in test_indices]\n",
    "\n",
    "for topic in topic_tags:\n",
    "    print('%s questions in test set: %d' % (topic, sum([1 for q in questions_test if topic in q['topics']])))"
   ]
  },
  {
   "cell_type": "code",
   "execution_count": 10,
   "metadata": {
    "collapsed": true
   },
   "outputs": [],
   "source": [
    "# clean & filter data\n",
    "def words_from_question(q):\n",
    "    # we are only interested in question statement, hints and solution\n",
    "    all_text = q['statement_html'] + q['hints_html'][0] + q['sols_html'][0] \n",
    "    return helpers.strip_text(all_text)\n",
    "\n",
    "# remove commonly used words and combine words with the same root\n",
    "def words_stemmed_no_stop(words):\n",
    "    stop = stopwords.words('english')\n",
    "    res = []\n",
    "    for word in words:\n",
    "        stemmed = PorterStemmer().stem_word(word)\n",
    "        if stemmed not in stop and len(stemmed) > 1: #take words longer than 1 char\n",
    "            res.append(stemmed)\n",
    "    return res"
   ]
  },
  {
   "cell_type": "code",
   "execution_count": 11,
   "metadata": {
    "collapsed": false
   },
   "outputs": [
    {
     "name": "stdout",
     "output_type": "stream",
     "text": [
      "('Number of distinct words:', 462)\n",
      "[u'abov', u'accord', u'ad', u'addit', u'age', u'ahead', u'allow', u'almost', u'also', u'altern', u'alway', u'analyt', u'ani', u'anoth', u'answer']\n"
     ]
    }
   ],
   "source": [
    "# collect all stemmed words from training set, excluding stop words\n",
    "\n",
    "vocabulary = []\n",
    "\n",
    "for q in questions_train:\n",
    "    vocabulary += words_stemmed_no_stop(words_from_question(q))\n",
    "vocabulary_sorted = sorted(set(vocabulary))\n",
    "\n",
    "\n",
    "\n",
    "print('Number of distinct words:', len(vocabulary_sorted))\n",
    "print(vocabulary_sorted[:15])"
   ]
  },
  {
   "cell_type": "code",
   "execution_count": 12,
   "metadata": {
    "collapsed": true
   },
   "outputs": [],
   "source": [
    "# returns a binary vector for a question, indicating whether a word\n",
    "# from vocabulary is contained in the question\n",
    "\n",
    "def question_to_vector(q, voc):\n",
    "    # vector of dimension 1xlen(voc)\n",
    "    x_vec = np.zeros(len(voc))\n",
    "    words = words_stemmed_no_stop(words_from_question(q))\n",
    "    for word in words:\n",
    "        if word in voc:\n",
    "            x_vec[voc.index(word)] = 1\n",
    "    return x_vec"
   ]
  },
  {
   "cell_type": "code",
   "execution_count": 13,
   "metadata": {
    "collapsed": false
   },
   "outputs": [
    {
     "name": "stdout",
     "output_type": "stream",
     "text": [
      "[ 1.  1.  1. ...,  0.  0.  0.]\n"
     ]
    },
    {
     "data": {
      "text/plain": [
       "24.0"
      ]
     },
     "execution_count": 13,
     "metadata": {},
     "output_type": "execute_result"
    }
   ],
   "source": [
    "print(question_to_vector(questions[0], vocabulary))\n",
    "sum(question_to_vector(questions[0], vocabulary))"
   ]
  },
  {
   "cell_type": "code",
   "execution_count": 60,
   "metadata": {
    "collapsed": false,
    "scrolled": true
   },
   "outputs": [],
   "source": [
    "# create an array of numerical labels for classes\n",
    "\n",
    "class_indices = range(0, num_classes)\n",
    "\n",
    "# transform questions into appropriate labels\n",
    "def questions_to_topic_index(qs):\n",
    "    topic_labels = []\n",
    "    for q in qs:\n",
    "        # go through topic_tags, if any of the topics is in the question's topic list\n",
    "        # append its index to topic_labels\n",
    "        for i in class_indices:\n",
    "            if topic_tags[i] in q['topics']:\n",
    "                topic_labels.append(i)\n",
    "                # assumes there is only one topic for each question\n",
    "                break \n",
    "                \n",
    "    return np.asarray(topic_labels)\n",
    "\n",
    "def questions_to_y(qs):\n",
    "    return label_binarize(questions_to_topic_index(qs), class_indices)"
   ]
  },
  {
   "cell_type": "code",
   "execution_count": 61,
   "metadata": {
    "collapsed": true
   },
   "outputs": [],
   "source": [
    "def questions_to_X(qs, voc):\n",
    "    X = np.zeros(shape=(len(qs), len(voc)))\n",
    "\n",
    "    for i, q in enumerate(qs):\n",
    "        X[i, :] = question_to_vector(q, voc)\n",
    "    return X"
   ]
  },
  {
   "cell_type": "code",
   "execution_count": 62,
   "metadata": {
    "collapsed": false
   },
   "outputs": [],
   "source": [
    "X_train = questions_to_X(questions_train, vocabulary_sorted)\n",
    "X_test = questions_to_X(questions_test, vocabulary_sorted)"
   ]
  },
  {
   "cell_type": "code",
   "execution_count": 63,
   "metadata": {
    "collapsed": false
   },
   "outputs": [],
   "source": [
    "assert len(X_train) == len(questions_train)"
   ]
  },
  {
   "cell_type": "code",
   "execution_count": 64,
   "metadata": {
    "collapsed": false
   },
   "outputs": [],
   "source": [
    "y_train = questions_to_y(questions_train)\n",
    "y_test = questions_to_y(questions_test)"
   ]
  },
  {
   "cell_type": "code",
   "execution_count": 19,
   "metadata": {
    "collapsed": true
   },
   "outputs": [],
   "source": [
    "# machine learning modules\n",
    "from sklearn.linear_model import LogisticRegression\n",
    "from sklearn.multiclass import OneVsRestClassifier\n",
    "from sklearn import svm"
   ]
  },
  {
   "cell_type": "code",
   "execution_count": 20,
   "metadata": {
    "collapsed": false
   },
   "outputs": [],
   "source": [
    "# SVM classifier\n",
    "\n",
    "classifier = OneVsRestClassifier(svm.SVC(kernel='linear', probability = True, random_state=np.random.RandomState(0)))"
   ]
  },
  {
   "cell_type": "code",
   "execution_count": 21,
   "metadata": {
    "collapsed": true
   },
   "outputs": [],
   "source": [
    "trained_classifier = classifier.fit(X_train, y_train)"
   ]
  },
  {
   "cell_type": "code",
   "execution_count": 86,
   "metadata": {
    "collapsed": false
   },
   "outputs": [
    {
     "name": "stdout",
     "output_type": "stream",
     "text": [
      "['Eigenvalues_and_eigenvectors', 'Eigenvalues_and_eigenvectors', 'Eigenvalues_and_eigenvectors', 'Eigenvalues_and_eigenvectors', 'Eigenvalues_and_eigenvectors', 'Eigenvalues_and_eigenvectors', 'Eigenvalues_and_eigenvectors', 'Eigenvalues_and_eigenvectors', 'Eigenvalues_and_eigenvectors', 'Eigenvalues_and_eigenvectors', 'Eigenvalues_and_eigenvectors', 'Eigenvalues_and_eigenvectors', 'Eigenvalues_and_eigenvectors', 'Eigenvalues_and_eigenvectors', 'Eigenvalues_and_eigenvectors', 'Eigenvalues_and_eigenvectors', 'Eigenvalues_and_eigenvectors', 'Eigenvalues_and_eigenvectors', 'Eigenvalues_and_eigenvectors', 'Taylor_series', 'Substitution', 'Substitution', 'Taylor_series', 'Substitution', 'Probability_density_function', 'Taylor_series', 'Taylor_series', 'Probability_density_function', 'Substitution', 'Substitution', 'Taylor_series', 'Probability_density_function', 'Substitution', 'Taylor_series', 'Substitution', 'Substitution', 'Taylor_series', 'Substitution', 'Probability_density_function', 'Probability_density_function', 'Probability_density_function', 'Probability_density_function', 'Substitution', 'Taylor_series', 'Probability_density_function', 'Taylor_series', 'Substitution', 'Substitution', 'Probability_density_function', 'Probability_density_function', 'Substitution', 'Taylor_series', 'Taylor_series', 'Probability_density_function', 'Substitution', 'Probability_density_function', 'Substitution', 'Taylor_series', 'Probability_density_function', 'Substitution', 'Taylor_series', 'Probability_density_function', 'Taylor_series', 'Probability_density_function', 'Substitution', 'Substitution', 'Taylor_series', 'Probability_density_function', 'Probability_density_function', 'Probability_density_function', 'Taylor_series', 'Probability_density_function', 'Substitution', 'Probability_density_function', 'Substitution', 'Taylor_series', 'Probability_density_function', 'Probability_density_function', 'Substitution', 'Taylor_series', 'Probability_density_function', 'Probability_density_function', 'Taylor_series', 'Substitution', 'Probability_density_function', 'Probability_density_function', 'Probability_density_function', 'Substitution', 'Probability_density_function', 'Taylor_series', 'Probability_density_function', 'Taylor_series', 'Substitution', 'Taylor_series', 'Probability_density_function', 'Taylor_series', 'Taylor_series', 'Probability_density_function', 'Taylor_series', 'Substitution', 'Eigenvalues_and_eigenvectors', 'Taylor_series', 'Taylor_series', 'Taylor_series', 'Taylor_series', 'Taylor_series', 'Taylor_series', 'Taylor_series', 'Taylor_series', 'Taylor_series', 'Taylor_series', 'Taylor_series', 'Taylor_series', 'Taylor_series', 'Taylor_series', 'Taylor_series', 'Eigenvalues_and_eigenvectors', 'Eigenvalues_and_eigenvectors', 'Eigenvalues_and_eigenvectors', 'Eigenvalues_and_eigenvectors', 'Eigenvalues_and_eigenvectors', 'Eigenvalues_and_eigenvectors', 'Eigenvalues_and_eigenvectors', 'Eigenvalues_and_eigenvectors', 'Eigenvalues_and_eigenvectors', 'Eigenvalues_and_eigenvectors', 'Eigenvalues_and_eigenvectors']\n"
     ]
    }
   ],
   "source": [
    "preds = trained_classifier.predict_proba(X_test)\n",
    "\n",
    "#print(np.around(preds, 3))\n",
    "\n",
    "def pred_to_topic(pred_array):\n",
    "    return(topic_tags[np.argmax(pred_array)])\n",
    "\n",
    "def preds_to_topics(preds_array):\n",
    "    result = []\n",
    "    for p in preds_array:\n",
    "        result.append(pred_to_topic(p))\n",
    "    return result\n",
    "\n",
    "predicted_classes = preds_to_topics(preds)\n",
    "print(predicted_classes)"
   ]
  },
  {
   "cell_type": "code",
   "execution_count": 25,
   "metadata": {
    "collapsed": false
   },
   "outputs": [
    {
     "name": "stdout",
     "output_type": "stream",
     "text": [
      "{0: 1.0, 1: 0.99671052631578949, 2: 0.99770114942528731, 3: 0.99764705882352933, 'micro': 0.99801599603199209}\n"
     ]
    }
   ],
   "source": [
    "# code not edited\n",
    "\n",
    "from sklearn.metrics import roc_curve, auc\n",
    "\n",
    "fpr = dict()\n",
    "tpr = dict()\n",
    "roc_auc = dict()\n",
    "\n",
    "for i in range(4):\n",
    "    fpr[i], tpr[i], _ = roc_curve(y_test[:, i], preds[:, i])\n",
    "    roc_auc[i] = auc(fpr[i], tpr[i])\n",
    "\n",
    "# Compute micro-average ROC curve and ROC area\n",
    "fpr[\"micro\"], tpr[\"micro\"], _ = roc_curve(y_test.ravel(), preds.ravel())\n",
    "roc_auc[\"micro\"] = auc(fpr[\"micro\"], tpr[\"micro\"])\n",
    "\n",
    "print(roc_auc)"
   ]
  },
  {
   "cell_type": "code",
   "execution_count": 26,
   "metadata": {
    "collapsed": true
   },
   "outputs": [],
   "source": [
    "from sklearn.decomposition import PCA\n",
    "from mpl_toolkits.mplot3d import Axes3D"
   ]
  },
  {
   "cell_type": "code",
   "execution_count": 27,
   "metadata": {
    "collapsed": false
   },
   "outputs": [
    {
     "name": "stdout",
     "output_type": "stream",
     "text": [
      "The first 3 principal components explain 0.21 of the variance in the dataset.\n"
     ]
    }
   ],
   "source": [
    "pca = PCA(n_components=3)\n",
    "pca.fit(X_train)\n",
    "pca_X_train = pca.transform(X_train)\n",
    "pca_X_test = pca.transform(X_test)\n",
    "print('The first 3 principal components explain %.2f of the variance in the dataset.' % sum(pca.explained_variance_ratio_))"
   ]
  },
  {
   "cell_type": "code",
   "execution_count": 28,
   "metadata": {
    "collapsed": false
   },
   "outputs": [
    {
     "name": "stdout",
     "output_type": "stream",
     "text": [
      "[[1 0 0 0]\n",
      " [1 0 0 0]\n",
      " [1 0 0 0]\n",
      " [1 0 0 0]\n",
      " [1 0 0 0]\n",
      " [1 0 0 0]\n",
      " [1 0 0 0]\n",
      " [1 0 0 0]\n",
      " [1 0 0 0]\n",
      " [0 0 0 1]\n",
      " [0 0 1 0]\n",
      " [0 0 1 0]\n",
      " [0 0 0 1]\n",
      " [0 0 0 1]\n",
      " [0 0 1 0]\n",
      " [0 0 0 1]\n",
      " [0 0 0 1]\n",
      " [0 0 0 1]\n",
      " [0 0 0 1]\n",
      " [0 0 1 0]\n",
      " [0 1 0 0]\n",
      " [0 1 0 0]\n",
      " [0 0 1 0]\n",
      " [0 1 0 0]\n",
      " [0 0 1 0]\n",
      " [0 1 0 0]\n",
      " [0 0 0 1]\n",
      " [0 1 0 0]\n",
      " [0 0 0 1]\n",
      " [0 1 0 0]\n",
      " [0 0 0 1]\n",
      " [0 0 1 0]\n",
      " [0 1 0 0]\n",
      " [0 0 0 1]\n",
      " [0 0 1 0]\n",
      " [0 0 1 0]\n",
      " [0 0 1 0]\n",
      " [1 0 0 0]\n",
      " [1 0 0 0]\n",
      " [1 0 0 0]\n",
      " [1 0 0 0]\n",
      " [1 0 0 0]\n",
      " [1 0 0 0]]\n"
     ]
    }
   ],
   "source": [
    "print(y_train)"
   ]
  },
  {
   "cell_type": "code",
   "execution_count": null,
   "metadata": {
    "collapsed": true
   },
   "outputs": [],
   "source": [
    "#labels_train = [TOPIC1 if _ else TOPIC0 for _ in y_train]\n",
    "#labels_test = [TOPIC1 if _ else TOPIC0 for _ in y_test]\n",
    "fig = plt.figure(1, figsize=(8, 6))\n",
    "plt.clf()\n",
    "ax = Axes3D(fig, rect=[0, 0, .95, 1], elev=25, azim=70)\n",
    "for c, i, label in zip('rgb', class_indices, labels_train):\n",
    "    ax.scatter(pca_X_train[y_train == i, 0],\n",
    "               pca_X_train[y_train == i, 1],\n",
    "               pca_X_train[y_train == i, 2],\n",
    "               c=c, label=label)\n",
    "    \n",
    "    \n",
    "for c, i, label in zip('rgb', [0, 1], [l + ' (test)' for l in labels_test]):\n",
    "    ax.scatter(pca_X_test[y_test == i, 0],\n",
    "               pca_X_test[y_test == i, 1],\n",
    "               pca_X_test[y_test == i, 2],\n",
    "               c=c, label=label, marker='x')\n",
    "plt.legend()\n",
    "plt.show()"
   ]
  },
  {
   "cell_type": "code",
   "execution_count": 76,
   "metadata": {
    "collapsed": false
   },
   "outputs": [
    {
     "name": "stdout",
     "output_type": "stream",
     "text": [
      "[ 0.12234723  0.99858668  0.88826215  0.95964481]\n",
      "0.564785449158\n"
     ]
    },
    {
     "ename": "ValueError",
     "evalue": "Cannot convert argument type <type 'numpy.ndarray'> to rgba array",
     "output_type": "error",
     "traceback": [
      "\u001b[1;31m---------------------------------------------------------------------------\u001b[0m",
      "\u001b[1;31mValueError\u001b[0m                                Traceback (most recent call last)",
      "\u001b[1;32m<ipython-input-76-506218f078af>\u001b[0m in \u001b[0;36m<module>\u001b[1;34m()\u001b[0m\n\u001b[0;32m     12\u001b[0m            \u001b[0mpca_X_train\u001b[0m\u001b[1;33m[\u001b[0m\u001b[0my_index_train\u001b[0m\u001b[1;33m==\u001b[0m\u001b[0mi\u001b[0m\u001b[1;33m,\u001b[0m\u001b[1;36m1\u001b[0m\u001b[1;33m]\u001b[0m\u001b[1;33m,\u001b[0m\u001b[1;33m\u001b[0m\u001b[0m\n\u001b[0;32m     13\u001b[0m            \u001b[0mpca_X_train\u001b[0m\u001b[1;33m[\u001b[0m\u001b[0my_index_train\u001b[0m\u001b[1;33m==\u001b[0m\u001b[0mi\u001b[0m\u001b[1;33m,\u001b[0m\u001b[1;36m2\u001b[0m\u001b[1;33m]\u001b[0m\u001b[1;33m,\u001b[0m\u001b[1;33m\u001b[0m\u001b[0m\n\u001b[1;32m---> 14\u001b[1;33m           c=col, label = topic_tags[i])\n\u001b[0m\u001b[0;32m     15\u001b[0m \u001b[0mplt\u001b[0m\u001b[1;33m.\u001b[0m\u001b[0mlegend\u001b[0m\u001b[1;33m(\u001b[0m\u001b[1;33m)\u001b[0m\u001b[1;33m\u001b[0m\u001b[0m\n\u001b[0;32m     16\u001b[0m \u001b[0mplt\u001b[0m\u001b[1;33m.\u001b[0m\u001b[0mshow\u001b[0m\u001b[1;33m(\u001b[0m\u001b[1;33m)\u001b[0m\u001b[1;33m\u001b[0m\u001b[0m\n",
      "\u001b[1;32m/usr/lib/python2.7/dist-packages/mpl_toolkits/mplot3d/axes3d.pyc\u001b[0m in \u001b[0;36mscatter\u001b[1;34m(self, xs, ys, zs, zdir, s, c, depthshade, *args, **kwargs)\u001b[0m\n\u001b[0;32m   2238\u001b[0m         \u001b[0mxs\u001b[0m\u001b[1;33m,\u001b[0m \u001b[0mys\u001b[0m\u001b[1;33m,\u001b[0m \u001b[0mzs\u001b[0m\u001b[1;33m,\u001b[0m \u001b[0ms\u001b[0m\u001b[1;33m,\u001b[0m \u001b[0mc\u001b[0m \u001b[1;33m=\u001b[0m \u001b[0mcbook\u001b[0m\u001b[1;33m.\u001b[0m\u001b[0mdelete_masked_points\u001b[0m\u001b[1;33m(\u001b[0m\u001b[0mxs\u001b[0m\u001b[1;33m,\u001b[0m \u001b[0mys\u001b[0m\u001b[1;33m,\u001b[0m \u001b[0mzs\u001b[0m\u001b[1;33m,\u001b[0m \u001b[0ms\u001b[0m\u001b[1;33m,\u001b[0m \u001b[0mc\u001b[0m\u001b[1;33m)\u001b[0m\u001b[1;33m\u001b[0m\u001b[0m\n\u001b[0;32m   2239\u001b[0m \u001b[1;33m\u001b[0m\u001b[0m\n\u001b[1;32m-> 2240\u001b[1;33m         \u001b[0mpatches\u001b[0m \u001b[1;33m=\u001b[0m \u001b[0mAxes\u001b[0m\u001b[1;33m.\u001b[0m\u001b[0mscatter\u001b[0m\u001b[1;33m(\u001b[0m\u001b[0mself\u001b[0m\u001b[1;33m,\u001b[0m \u001b[0mxs\u001b[0m\u001b[1;33m,\u001b[0m \u001b[0mys\u001b[0m\u001b[1;33m,\u001b[0m \u001b[0ms\u001b[0m\u001b[1;33m=\u001b[0m\u001b[0ms\u001b[0m\u001b[1;33m,\u001b[0m \u001b[0mc\u001b[0m\u001b[1;33m=\u001b[0m\u001b[0mc\u001b[0m\u001b[1;33m,\u001b[0m \u001b[1;33m*\u001b[0m\u001b[0margs\u001b[0m\u001b[1;33m,\u001b[0m \u001b[1;33m**\u001b[0m\u001b[0mkwargs\u001b[0m\u001b[1;33m)\u001b[0m\u001b[1;33m\u001b[0m\u001b[0m\n\u001b[0m\u001b[0;32m   2241\u001b[0m         \u001b[1;32mif\u001b[0m \u001b[1;32mnot\u001b[0m \u001b[0mcbook\u001b[0m\u001b[1;33m.\u001b[0m\u001b[0miterable\u001b[0m\u001b[1;33m(\u001b[0m\u001b[0mzs\u001b[0m\u001b[1;33m)\u001b[0m\u001b[1;33m:\u001b[0m\u001b[1;33m\u001b[0m\u001b[0m\n\u001b[0;32m   2242\u001b[0m             \u001b[0mis_2d\u001b[0m \u001b[1;33m=\u001b[0m \u001b[0mTrue\u001b[0m\u001b[1;33m\u001b[0m\u001b[0m\n",
      "\u001b[1;32m/usr/lib/python2.7/dist-packages/matplotlib/axes/_axes.pyc\u001b[0m in \u001b[0;36mscatter\u001b[1;34m(self, x, y, s, c, marker, cmap, norm, vmin, vmax, alpha, linewidths, verts, **kwargs)\u001b[0m\n\u001b[0;32m   3612\u001b[0m                 \u001b[0mcolors\u001b[0m \u001b[1;33m=\u001b[0m \u001b[0mNone\u001b[0m  \u001b[1;31m# use cmap, norm after collection is created\u001b[0m\u001b[1;33m\u001b[0m\u001b[0m\n\u001b[0;32m   3613\u001b[0m             \u001b[1;32melse\u001b[0m\u001b[1;33m:\u001b[0m\u001b[1;33m\u001b[0m\u001b[0m\n\u001b[1;32m-> 3614\u001b[1;33m                 \u001b[0mcolors\u001b[0m \u001b[1;33m=\u001b[0m \u001b[0mmcolors\u001b[0m\u001b[1;33m.\u001b[0m\u001b[0mcolorConverter\u001b[0m\u001b[1;33m.\u001b[0m\u001b[0mto_rgba_array\u001b[0m\u001b[1;33m(\u001b[0m\u001b[0mc\u001b[0m\u001b[1;33m,\u001b[0m \u001b[0malpha\u001b[0m\u001b[1;33m)\u001b[0m\u001b[1;33m\u001b[0m\u001b[0m\n\u001b[0m\u001b[0;32m   3615\u001b[0m \u001b[1;33m\u001b[0m\u001b[0m\n\u001b[0;32m   3616\u001b[0m         \u001b[0mfaceted\u001b[0m \u001b[1;33m=\u001b[0m \u001b[0mkwargs\u001b[0m\u001b[1;33m.\u001b[0m\u001b[0mpop\u001b[0m\u001b[1;33m(\u001b[0m\u001b[1;34m'faceted'\u001b[0m\u001b[1;33m,\u001b[0m \u001b[0mNone\u001b[0m\u001b[1;33m)\u001b[0m\u001b[1;33m\u001b[0m\u001b[0m\n",
      "\u001b[1;32m/usr/lib/python2.7/dist-packages/matplotlib/colors.pyc\u001b[0m in \u001b[0;36mto_rgba_array\u001b[1;34m(self, c, alpha)\u001b[0m\n\u001b[0;32m    389\u001b[0m         \u001b[1;32mexcept\u001b[0m \u001b[0mTypeError\u001b[0m\u001b[1;33m:\u001b[0m\u001b[1;33m\u001b[0m\u001b[0m\n\u001b[0;32m    390\u001b[0m             raise ValueError(\n\u001b[1;32m--> 391\u001b[1;33m                 \"Cannot convert argument type %s to rgba array\" % type(c))\n\u001b[0m\u001b[0;32m    392\u001b[0m         \u001b[1;32mtry\u001b[0m\u001b[1;33m:\u001b[0m\u001b[1;33m\u001b[0m\u001b[0m\n\u001b[0;32m    393\u001b[0m             \u001b[1;32mif\u001b[0m \u001b[0mnc\u001b[0m \u001b[1;33m==\u001b[0m \u001b[1;36m0\u001b[0m \u001b[1;32mor\u001b[0m \u001b[0mc\u001b[0m\u001b[1;33m.\u001b[0m\u001b[0mlower\u001b[0m\u001b[1;33m(\u001b[0m\u001b[1;33m)\u001b[0m \u001b[1;33m==\u001b[0m \u001b[1;34m'none'\u001b[0m\u001b[1;33m:\u001b[0m\u001b[1;33m\u001b[0m\u001b[0m\n",
      "\u001b[1;31mValueError\u001b[0m: Cannot convert argument type <type 'numpy.ndarray'> to rgba array"
     ]
    },
    {
     "data": {
      "image/png": "[encoded data removed]",
      "text/plain": [
       "<matplotlib.figure.Figure at 0x7fafa9a9c790>"
      ]
     },
     "metadata": {},
     "output_type": "display_data"
    }
   ],
   "source": [
    "fig = plt.figure(1, figsize=(8, 6))\n",
    "plt.clf()\n",
    "ax = Axes3D(fig, rect=[0, .5, .4, 1], elev=25, azim=70)\n",
    "\n",
    "y_index_train = questions_to_topic_index(questions_train)\n",
    "\n",
    "print(np.random.rand(num_classes,))\n",
    "\n",
    "for col, i in zip(np.random.rand(num_classes,), range(num_classes)):\n",
    "    print(col)\n",
    "    ax.scatter(pca_X_train[y_index_train==i,0],\n",
    "           pca_X_train[y_index_train==i,1],\n",
    "           pca_X_train[y_index_train==i,2],\n",
    "          c=col, label = topic_tags[i])\n",
    "plt.legend()\n",
    "plt.show()\n",
    "\n",
    "## fix colours (e.g. through random number generator mapped to random cols)\n"
   ]
  },
  {
   "cell_type": "code",
   "execution_count": 87,
   "metadata": {
    "collapsed": true
   },
   "outputs": [],
   "source": [
    "def predict_topic_for_question(q, classifier, voc):\n",
    "    vec = question_to_vector(q, voc)\n",
    "    pred_prob = classifier.predict_proba(vec)\n",
    "    pred_class = pred_to_topic(pred_prob)\n",
    "    return pred_class\n",
    "    "
   ]
  },
  {
   "cell_type": "code",
   "execution_count": 89,
   "metadata": {
    "collapsed": false
   },
   "outputs": [
    {
     "name": "stdout",
     "output_type": "stream",
     "text": [
      "Probability_density_function\n"
     ]
    }
   ],
   "source": [
    "print(predict_topic_for_question(questions[77], trained_classifier, vocabulary_sorted))"
   ]
  },
  {
   "cell_type": "code",
   "execution_count": 91,
   "metadata": {
    "collapsed": true
   },
   "outputs": [],
   "source": [
    "pickle.dump(trained_classifier, open(\"svm.p\", \"wb\"))"
   ]
  },
  {
   "cell_type": "code",
   "execution_count": null,
   "metadata": {
    "collapsed": true
   },
   "outputs": [],
   "source": []
  }
 ],
 "metadata": {
  "kernelspec": {
   "display_name": "Python 2",
   "language": "python",
   "name": "python2"
  },
  "language_info": {
   "codemirror_mode": {
    "name": "ipython",
    "version": 2
   },
   "file_extension": ".py",
   "mimetype": "text/x-python",
   "name": "python",
   "nbconvert_exporter": "python",
   "pygments_lexer": "ipython2",
   "version": "2.7.9"
  }
 },
 "nbformat": 4,
 "nbformat_minor": 0
}
