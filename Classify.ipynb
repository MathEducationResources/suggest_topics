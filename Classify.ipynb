{
 "cells": [
  {
   "cell_type": "markdown",
   "metadata": {},
   "source": [
    "# Predict the topic of a Math Question on Math Education Resources"
   ]
  },
  {
   "cell_type": "markdown",
   "metadata": {},
   "source": [
    "We will use **Machine Learning** to predict the topic of a Math Question from the [Math Education Resources](http://math-education-resources.com). For simplicity we will only consider two topics. Using [multiclass classification](https://en.wikipedia.org/wiki/Multiclass_classification) this can be extended to more than two topics (at the time of writing, April 2015, we have about 1500 questions with 150 topics on MER)."
   ]
  },
  {
   "cell_type": "markdown",
   "metadata": {},
   "source": [
    "## Data inspection"
   ]
  },
  {
   "cell_type": "code",
   "execution_count": 15,
   "metadata": {
    "collapsed": true
   },
   "outputs": [],
   "source": [
    "import os\n",
    "import json\n",
    "import numpy as np\n",
    "from pymongo import MongoClient"
   ]
  },
  {
   "cell_type": "code",
   "execution_count": 16,
   "metadata": {
    "collapsed": true
   },
   "outputs": [],
   "source": [
    "client = MongoClient()"
   ]
  },
  {
   "cell_type": "code",
   "execution_count": 17,
   "metadata": {
    "collapsed": true
   },
   "outputs": [],
   "source": [
    "questions_collection = client['merdb'].questions"
   ]
  },
  {
   "cell_type": "code",
   "execution_count": 18,
   "metadata": {
    "collapsed": false
   },
   "outputs": [
    {
     "data": {
      "text/plain": [
       "{u'ID': u'UBC+MATH307+April_2012+01_(d)',\n",
       " u'_id': ObjectId('55383310cec2a2367cebc622'),\n",
       " u'answer_html': u'<p>No content found.</p>',\n",
       " u'answer_latex': u'No content found.',\n",
       " u'contributors': [u'Konradbe'],\n",
       " u'course': u'MATH307',\n",
       " u'flags': [u'RQ', u'CH', u'CS', u'CT'],\n",
       " u'hints_html': [u'<p>No content found.</p>'],\n",
       " u'hints_latex': [u'No content found.'],\n",
       " u'hints_raw': [u'No content found.'],\n",
       " u'num_votes': 0,\n",
       " u'question': u'1 (d)',\n",
       " u'rating': -1,\n",
       " u'sols_html': [u'<p>No content found.</p>'],\n",
       " u'sols_latex': [u'No content found.'],\n",
       " u'sols_raw': [u'No content found.'],\n",
       " u'statement_html': u'<p>Suppose you are given a set of <em>N</em> data points <em>(x<sub>n</sub>, y<sub>n</sub>)</em>, with <em>x<sub>n</sub></em> increasing, and you wish to interpolate these points with a spline function <em><span class=\"math\">\\\\(f\\\\)</span></em>, where <em><span class=\"math\">\\\\(f\\\\)</span>(x)</em> is given by the cubic polynomial <em>p<sub>n</sub>(x)</em> on each interval <em>(x<sub>n</sub>, x<sub>n+1</sub>)</em> for <em>n = 1, ..., N-1</em>:</p>\\n<p><span class=\"math\">\\\\[\\\\begin{aligned}\\n\\\\displaystyle\\np_n(x) = a_n(x-x_n)^3 + b_n(x-x_n)^2 + c_n(x-x_n) + d_n\\\\end{aligned}\\\\]</span></p>\\n<p><strong>(d)</strong> Write down the matrix equation to be solved for the coefficients of the polynomials in the case <em>N = 3</em>, with <em>x<sub>1</sub> = 1</em>, <em>x<sub>2</sub> = 2</em>, <em>x<sub>3</sub> = 3</em>.</p>',\n",
       " u'statement_latex': u'Suppose you are given a set of \\\\emph{N} data points\\n\\\\emph{(x\\\\textsubscript{n}, y\\\\textsubscript{n})}, with\\n\\\\emph{x\\\\textsubscript{n}} increasing, and you wish to interpolate these\\npoints with a spline function \\\\emph{$f$}, where \\\\emph{$f$(x)} is given by\\nthe cubic polynomial \\\\emph{p\\\\textsubscript{n}(x)} on each interval\\n\\\\emph{(x\\\\textsubscript{n}, x\\\\textsubscript{n+1})} for \\\\emph{n = 1, ...,\\nN-1}:\\n\\n\\\\begin{align*}\\n\\\\displaystyle\\np_n(x) = a_n(x-x_n)^3 + b_n(x-x_n)^2 + c_n(x-x_n) + d_n\\n\\\\end{align*}\\n\\n\\\\textbf{(d)} Write down the matrix equation to be solved for the\\ncoefficients of the polynomials in the case \\\\emph{N = 3}, with\\n\\\\emph{x\\\\textsubscript{1} = 1}, \\\\emph{x\\\\textsubscript{2} = 2},\\n\\\\emph{x\\\\textsubscript{3} = 3}.',\n",
       " u'statement_raw': u\"Suppose you are given a set of ''N'' data points ''(x&lt;sub>n&lt;/sub>, y&lt;sub>n&lt;/sub>)'', with ''x&lt;sub>n&lt;/sub>'' increasing, and you wish to interpolate these points with a spline function ''&amp;fnof;'', where ''&amp;fnof;(x)'' is given by the cubic polynomial ''p&lt;sub>n&lt;/sub>(x)'' on each interval ''(x&lt;sub>n&lt;/sub>, x&lt;sub>n+1&lt;/sub>)'' for ''n = 1, ..., N-1'':\\n\\n:&lt;math> \\\\displaystyle\\np_n(x) = a_n(x-x_n)^3 + b_n(x-x_n)^2 + c_n(x-x_n) + d_n\\n&lt;/math>\\n\\n'''(d)''' Write down the matrix equation to be solved for the coefficients of the polynomials in the case ''N = 3'', with ''x&lt;sub>1&lt;/sub> = 1'', ''x&lt;sub>2&lt;/sub> = 2'', ''x&lt;sub>3&lt;/sub> = 3''.\",\n",
       " u'term': u'April',\n",
       " u'url': u'http://wiki.ubc.ca/Science:Math_Exam_Resources/Courses/MATH307/April_2012/Question_01_(d)',\n",
       " u'year': 2012}"
      ]
     },
     "execution_count": 18,
     "metadata": {},
     "output_type": "execute_result"
    }
   ],
   "source": [
    "questions_collection.find_one()"
   ]
  },
  {
   "cell_type": "code",
   "execution_count": 19,
   "metadata": {
    "collapsed": true
   },
   "outputs": [],
   "source": [
    "topic_tags = [\"Eigenvalues_and_eigenvectors\", \"Probability_density_function\", \"Taylor_series\"]"
   ]
  },
  {
   "cell_type": "code",
   "execution_count": 20,
   "metadata": {
    "collapsed": false
   },
   "outputs": [],
   "source": [
    "questions = []\n",
    "for q in questions_collection.find({\"topics\": \n",
    "                                         {\"$in\": topic_tags}\n",
    "                                        }):\n",
    "    questions.append(q)"
   ]
  },
  {
   "cell_type": "code",
   "execution_count": 21,
   "metadata": {
    "collapsed": false
   },
   "outputs": [
    {
     "name": "stdout",
     "output_type": "stream",
     "text": [
      "45\n",
      "39\n",
      "50\n"
     ]
    }
   ],
   "source": [
    "for t in topic_tags:\n",
    "    print(questions_collection.find({\"topics\": t}).count())\n",
    "    "
   ]
  },
  {
   "cell_type": "code",
   "execution_count": 22,
   "metadata": {
    "collapsed": false
   },
   "outputs": [
    {
     "data": {
      "text/plain": [
       "[u'rating',\n",
       " u'contributors',\n",
       " u'topics',\n",
       " u'year',\n",
       " u'answer_html',\n",
       " u'course',\n",
       " u'solvers',\n",
       " u'sols_raw',\n",
       " u'hints_html',\n",
       " u'votes',\n",
       " u'question',\n",
       " u'statement_raw',\n",
       " u'num_votes',\n",
       " u'statement_html',\n",
       " u'term',\n",
       " u'statement_latex',\n",
       " u'hints_raw',\n",
       " u'hints_latex',\n",
       " u'ID',\n",
       " u'sols_latex',\n",
       " u'url',\n",
       " u'flags',\n",
       " u'answer_latex',\n",
       " u'sols_html',\n",
       " u'_id']"
      ]
     },
     "execution_count": 22,
     "metadata": {},
     "output_type": "execute_result"
    }
   ],
   "source": [
    "questions[77].keys()"
   ]
  },
  {
   "cell_type": "code",
   "execution_count": 23,
   "metadata": {
    "collapsed": false
   },
   "outputs": [
    {
     "name": "stdout",
     "output_type": "stream",
     "text": [
      "Eigenvalues_and_eigenvectors questions in test set: 34\n",
      "Probability_density_function questions in test set: 25\n",
      "Taylor_series questions in test set: 41\n"
     ]
    }
   ],
   "source": [
    "np.random.seed(23)  # for reproducibility we set the seed of the random number generator\n",
    "num_samples = int(0.75 * len(questions))\n",
    "test_indices = np.random.choice(range(len(questions)), num_samples, replace=False)\n",
    "questions_train = [q for i, q in enumerate(questions) if not i in test_indices]\n",
    "questions_test = [q for i, q in enumerate(questions) if i in test_indices]\n",
    "print('%s questions in test set: %d' % (topic_tags[0], sum([1 for q in questions_test if topic_tags[0] in q['topics']])))\n",
    "print('%s questions in test set: %d' % (topic_tags[1], sum([1 for q in questions_test if topic_tags[1] in q['topics']])))\n",
    "print('%s questions in test set: %d' % (topic_tags[2], sum([1 for q in questions_test if topic_tags[2] in q['topics']])))"
   ]
  },
  {
   "cell_type": "code",
   "execution_count": 24,
   "metadata": {
    "collapsed": false
   },
   "outputs": [],
   "source": [
    "import helpers\n",
    "from nltk import PorterStemmer\n",
    "from nltk.corpus import stopwords"
   ]
  },
  {
   "cell_type": "code",
   "execution_count": 25,
   "metadata": {
    "collapsed": true
   },
   "outputs": [],
   "source": [
    "def words_from_question(q):\n",
    "    all_text = q['statement_html'] + q['hints_html'][0] + q['sols_html'][0]\n",
    "    return helpers.strip_text(all_text)\n",
    "\n",
    "def words_stemmed_no_stop(words):\n",
    "    stop = stopwords.words('english')\n",
    "    res = []\n",
    "    for word in words:\n",
    "        stemmed = PorterStemmer().stem_word(word)\n",
    "        if stemmed not in stop and len(stemmed) > 1:\n",
    "            res.append(stemmed)\n",
    "    return res"
   ]
  },
  {
   "cell_type": "code",
   "execution_count": 26,
   "metadata": {
    "collapsed": false
   },
   "outputs": [
    {
     "name": "stdout",
     "output_type": "stream",
     "text": [
      "('Number of distinct words:', 431)\n",
      "[u'abl', u'abov', u'absolut', u'accord', u'act', u'ad', u'ahead', u'allow', u'also', u'alt', u'alway', u'amp', u'analyt', u'ani', u'anoth']\n"
     ]
    }
   ],
   "source": [
    "vocabulary = []\n",
    "for q in questions_train:\n",
    "    vocabulary += words_stemmed_no_stop(words_from_question(q))\n",
    "vocabulary_sorted = sorted(set(vocabulary))\n",
    "print('Number of distinct words:', len(vocabulary_sorted))\n",
    "print(vocabulary_sorted[:15])"
   ]
  },
  {
   "cell_type": "code",
   "execution_count": 27,
   "metadata": {
    "collapsed": true
   },
   "outputs": [],
   "source": [
    "def question_to_vector(q, voc):\n",
    "    x_vec = np.zeros(len(voc))\n",
    "    words = words_stemmed_no_stop(words_from_question(q))\n",
    "    for word in words:\n",
    "        if word in voc:\n",
    "            x_vec[voc.index(word)] = 1\n",
    "    return x_vec"
   ]
  },
  {
   "cell_type": "code",
   "execution_count": 28,
   "metadata": {
    "collapsed": false
   },
   "outputs": [
    {
     "data": {
      "text/plain": [
       "20.0"
      ]
     },
     "execution_count": 28,
     "metadata": {},
     "output_type": "execute_result"
    }
   ],
   "source": [
    "sum(question_to_vector(questions[0], vocabulary))"
   ]
  },
  {
   "cell_type": "code",
   "execution_count": 29,
   "metadata": {
    "collapsed": false
   },
   "outputs": [
    {
     "data": {
      "text/plain": [
       "{u'ID': u'UBC+MATH307+December_2008+06_(b)',\n",
       " u'_id': ObjectId('55383312cec2a2367cebc643'),\n",
       " u'answer_html': u'<p>Therefore, the matrix <span class=\"math\">\\\\(Q+iI\\\\)</span> is invertible.</p>',\n",
       " u'answer_latex': u'Therefore, the matrix $Q+iI$ is invertible.',\n",
       " u'contributors': [u'IainMoyles', u'Konradbe'],\n",
       " u'course': u'MATH307',\n",
       " u'flags': [u'QGQ', u'QGH', u'QGS', u'RT'],\n",
       " u'hints_html': [u'<p>Think eigenvalues and recall part (a).</p>'],\n",
       " u'hints_latex': [u'Think eigenvalues and recall part (a).'],\n",
       " u'hints_raw': [u'Think eigenvalues and recall part (a).'],\n",
       " u'num_votes': 0,\n",
       " u'question': u'6 (b)',\n",
       " u'rating': -1,\n",
       " u'sols_html': [u'<p>Recall the definition of the eigenvalue, we know that <span class=\"math\">\\\\(-i\\\\)</span> is one of Q<span class=\"math\">\\\\(^{\\\\prime}\\\\)</span>s eigenvalues when <span class=\"math\">\\\\(det(Q+iI)=0\\\\)</span>, and <span class=\"math\">\\\\(Q+iI\\\\)</span> is invertible if and only if <span class=\"math\">\\\\(det(Q+iI)\\\\neq 0\\\\)</span>. From <span>part a</span>, we know that Q is a symmetric matrix. A symmetric matrix will only have real eigenvalues and since <span class=\"math\">\\\\(-i\\\\)</span> is not real, it is not an eigenvalue of Q and <span class=\"math\">\\\\(det(Q+iI)\\\\)</span> is never equal to zero.</p>\\n<p>Therefore, the matrix <span class=\"math\">\\\\(Q+iI\\\\)</span> is invertible.</p>'],\n",
       " u'sols_latex': [u'Recall the definition of the eigenvalue, we know that $-i$ is one of\\nQ$^{\\\\prime}$s eigenvalues when $det(Q+iI)=0$, and $Q+iI$ is invertible\\nif and only if $det(Q+iI)\\\\neq 0$. From\\n{part\\na}, we know that Q is a symmetric matrix. A symmetric matrix will only\\nhave real eigenvalues and since $-i$ is not real, it is not an\\neigenvalue of Q and $det(Q+iI)$ is never equal to zero.\\n\\nTherefore, the matrix $Q+iI$ is invertible.'],\n",
       " u'sols_raw': [u'Recall the definition of the eigenvalue, we know that &lt;math>-i&lt;/math> is one of Q\\u2019s eigenvalues when &lt;math>det(Q+iI)=0&lt;/math>, and &lt;math>Q+iI&lt;/math> is invertible if and only if &lt;math>det(Q+iI)\\\\neq 0&lt;/math>.  From [[Science:Math_Exam_Resources/Courses/MATH307/December_2008/Question_06_(a)|part a]], we know that Q is a symmetric matrix.  A symmetric matrix will only have real eigenvalues and since &lt;math>-i&lt;/math> is not real, it is not an eigenvalue of Q and &lt;math>det(Q+iI)&lt;/math> is never equal to zero.\\n\\nTherefore, the matrix &lt;math>Q+iI&lt;/math> is invertible.'],\n",
       " u'solvers': [u'CarmenBruni'],\n",
       " u'statement_html': u'<p>Let <em>u</em> be a unit vector and <em>Q = I - 2uu<sup>T</sup></em>. Show:</p>\\n<p><strong>(b)</strong> The matrix <em>Q + iI</em> is invertible.</p>',\n",
       " u'statement_latex': u'Let \\\\emph{u} be a unit vector and \\\\emph{Q = I - 2uu\\\\textsuperscript{T}}.\\nShow:\\n\\n\\\\textbf{(b)} The matrix \\\\emph{Q + iI} is invertible.',\n",
       " u'statement_raw': u\"Let ''u'' be a unit vector and ''Q = I - 2uu&lt;sup>T&lt;/sup>''. Show:\\n\\n'''(b)''' The matrix ''Q + iI'' is invertible.\",\n",
       " u'term': u'December',\n",
       " u'topics': [u'Eigenvalues_and_eigenvectors'],\n",
       " u'url': u'http://wiki.ubc.ca/Science:Math_Exam_Resources/Courses/MATH307/December_2008/Question_06_(b)',\n",
       " u'year': 2008}"
      ]
     },
     "execution_count": 29,
     "metadata": {},
     "output_type": "execute_result"
    }
   ],
   "source": [
    "questions[0]"
   ]
  },
  {
   "cell_type": "code",
   "execution_count": 39,
   "metadata": {
    "collapsed": false
   },
   "outputs": [],
   "source": [
    "from sklearn.linear_model import LogisticRegression"
   ]
  },
  {
   "cell_type": "code",
   "execution_count": 43,
   "metadata": {
    "collapsed": false
   },
   "outputs": [],
   "source": [
    "from sklearn.preprocessing import label_binarize"
   ]
  },
  {
   "cell_type": "code",
   "execution_count": 59,
   "metadata": {
    "collapsed": false,
    "scrolled": true
   },
   "outputs": [],
   "source": [
    "def questions_to_y(qs):\n",
    "    topic_labels = []\n",
    "    for q in qs:\n",
    "        if topic_tags[0] in q['topics']:\n",
    "            topic_labels.append(0)\n",
    "        elif topic_tags[1] in q['topics']:\n",
    "            topic_labels.append(1)\n",
    "        else:\n",
    "            topic_labels.append(2)\n",
    "    return label_binarize(topic_labels, classes = [0, 1, 2])"
   ]
  },
  {
   "cell_type": "code",
   "execution_count": 56,
   "metadata": {
    "collapsed": true
   },
   "outputs": [],
   "source": [
    "def questions_to_X(qs, voc):\n",
    "    X = np.zeros(shape=(len(qs), len(voc)))\n",
    "\n",
    "    for i, q in enumerate(qs):\n",
    "        X[i, :] = question_to_vector(q, voc)\n",
    "    return X"
   ]
  },
  {
   "cell_type": "code",
   "execution_count": 57,
   "metadata": {
    "collapsed": true
   },
   "outputs": [
    {
     "name": "stdout",
     "output_type": "stream",
     "text": [
      "[u'true', u'fals', u'squar', u'matrix', u'ha', u'repeat', u'eigenvalu', u'cannot', u'diagon', u'justifi', u'answer', u'content', u'found', u'fals', u'becaus', u'ha', u'repeat', u'eigenvalu', u'diagon', u'array', u'greater_than']\n",
      "[u'consid', u'matrix', u'verifi', u'eigenvalu', u'content', u'found', u'recal', u'eigenvalu', u'onli', u'therefor', u'suffic', u'show', u'would', u'prefer', u'avoid', u'lot', u'comput', u'find', u'determin', u'right', u'away', u'instead', u'recal', u'ad', u'multipl', u'one', u'row', u'anoth', u'doe', u'chang', u'determin', u'therefor', u'ad', u'second', u'row', u'third', u'subtract', u'first', u'row', u'second', u'yield', u'matrix', u'ha', u'determin', u'note', u'two', u'row', u'multipl', u'therefor', u'determin', u'abov', u'matrix', u'zero', u'henc', u'matrix', u'greater_than', u'determin']\n",
      "[u'find', u'number', u'make', u'matrix', u'diagonaliz', u'need', u'diagon', u'content', u'found', u'let', u'find', u'eigenvalu', u'solv', u'equat', u'abov', u'get', u'similar', u'need', u'make', u'sure', u'eigenvalu', u'exactli', u'correspond', u'eigenvector', u'order', u'get', u'free', u'variabl', u'need', u'set', u'thu', u'order', u'get', u'free', u'variabl', u'need', u'set', u'thu', u'matrix', u'fraction', u'greater_than']\n",
      "[u'find', u'determin', u'matrix', u'one', u'thi', u'charg', u'ahead', u'either', u'use', u'definit', u'use', u'row', u'oper', u'get', u'matrix', u'upper', u'diagon', u'matrix', u'see', u'solut', u'eleg', u'way', u'solv', u'thi', u'thi', u'solut', u'follow', u'proof', u'gener', u'veri', u'easili', u'matrix', u'present', u'thi', u'solut', u'first', u'let', u'let', u'five', u'five', u'ident', u'matrix', u'next', u'let', u'standard', u'basi', u'vector', u'abov', u'ith', u'posit', u'notic', u'vector', u'defin', u'gener', u'size', u'matrix', u'simpl', u'calcul', u'show', u'us', u'valu', u'take', u'vector', u'one', u'vector', u'see', u'everi', u'vector', u'eigenvector', u'ident', u'matrix', u'henc', u'get', u'eigenvalu', u'one', u'eigenvalu', u'thu', u'gener', u'abov', u'chang', u'everi', u'abov', u'matrix', u'greater_than']\n",
      "[u'matrix', u'ha', u'distinct', u'eigenvalu', u'content', u'found', u'answer', u'strong', u'fals', u'strong', u'consid', u'matrix', u'ha', u'two', u'distinct', u'eigenvalu', u'howev', u'clearli', u'ha', u'onli', u'one', u'linearli', u'independ', u'column', u'matrix', u'greater_than']\n",
      "[u'sum', u'two', u'eigenvector', u'eigenvector', u'content', u'found', u'answer', u'strong', u'fals', u'strong', u'motiv', u'whi', u'fals', u'follow', u'let', u'two', u'eigenvector', u'respect', u'eigenvalu', u'unless', u'strong', u'strong', u'eigenvector', u'abov', u'observ', u'guid', u'us', u'construct', u'counterexampl', u'consid', u'eigenvalu', u'correspond', u'eigenvector', u'howev', u'discuss', u'abov', u'eigenvector', u'matrix', u'greater_than']\n",
      "[u'let', u'find', u'matrix', u'simplifi', u'answer', u'much', u'possibl', u'make', u'use', u'result', u'span', u'part', u'diagon', u'power', u'diagon', u'matric', u'easi', u'comput', u'span', u'part', u'know', u'eigenvalu', u'correspond', u'eigenvector', u'respect', u'let', u'denot', u'matrix', u'eigenvalu', u'matrix', u'whose', u'column', u'correspond', u'eigenvector', u'diagon', u'via', u'thi', u'decomposit', u'allow', u'easi', u'comput', u'power', u'ani', u'integ', u'therefor', u'comput', u'multipli', u'three', u'matric', u'obtain', u'matrix', u'fraction', u'greater_than']\n",
      "[u'strong', u'short', u'answer', u'question', u'strong', u'show', u'work', u'simplifi', u'answer', u'much', u'possibl', u'evalu', u'first', u'one', u'might', u'think', u'hopit', u'rule', u'would', u'good', u'strategi', u'becaus', u'evalu', u'limit', u'zero', u'give', u'indetermin', u'form', u'howev', u'take', u'deriv', u'denomin', u'involv', u'chain', u'rule', u'help', u'simplifi', u'problem', u'instead', u'tri', u'use', u'power', u'seri', u'expans', u'numer', u'recal', u'maclaurin', u'power', u'seri', u'sin', u'note', u'first', u'two', u'term', u'cancel', u'exactli', u'polynomi', u'numer', u'thu', u'shown', u'hint', u'also', u'say', u'first', u'term', u'limit', u'becom', u'remain', u'term', u'term', u'evalu', u'also', u'extra', u'power', u'make', u'entir', u'term', u'go', u'solut', u'limit', u'thi', u'question', u'demonstr', u'strength', u'power', u'seri', u'difficult', u'calculu', u'problem', u'limit', u'fraction', u'sine', u'greater_than', u'cdot']\n",
      "[u'find', u'first', u'three', u'nonzero', u'term', u'power', u'seri', u'represent', u'power', u'maclaurin', u'seri', u'maclaurin', u'seri', u'expans', u'thi', u'look', u'veri', u'familiar', u'problem', u'hand', u'recal', u'follow', u'maclaurin', u'seri', u'expans', u'plug', u'give', u'multipli', u'give', u'henc', u'first', u'three', u'nonzero', u'term', u'therefor', u'produc', u'first', u'three', u'non', u'zero', u'term', u'desir', u'integr', u'integr', u'sum', u'infin', u'fraction', u'greater_than', u'infimum']\n",
      "[u'exponenti', u'distribut', u'continu', u'random', u'variabl', u'ha', u'probabl', u'densiti', u'function', u'posit', u'constant', u'median', u'valu', u'equal', u'find', u'definit', u'median', u'number', u'hint', u'median', u'number', u'told', u'henc', u'evalu', u'thi', u'integr', u'give', u'solv', u'yield', u'thu', u'integr', u'limit', u'infin', u'exponenti', u'log', u'fraction', u'greater_than', u'infimum']\n",
      "[u'strong', u'short', u'answer', u'question', u'strong', u'question', u'short', u'answer', u'question', u'put', u'answer', u'box', u'provid', u'strong', u'simplifi', u'answer', u'much', u'possibl', u'strong', u'full', u'mark', u'award', u'correct', u'answer', u'place', u'box', u'strong', u'show', u'work', u'strong', u'part', u'mark', u'first', u'two', u'term', u'maclaurin', u'seri', u'constant', u'find', u'valu', u'work', u'maclaurin', u'seri', u'first', u'manipul', u'recal', u'maclaurin', u'seri', u'sin', u'given', u'fraction', u'sine', u'greater_than']\n",
      "[u'first', u'two', u'nonzero', u'term', u'power', u'seri', u'represent', u'power', u'maclaurin', u'seri', u'form', u'constant', u'find', u'valu', u'maclaurin', u'seri', u'maclaurin', u'polynomi', u'see', u'mean', u'integr', u'fraction', u'sine', u'greater_than']\n",
      "[u'find', u'first', u'three', u'nonzero', u'term', u'power', u'seri', u'represent', u'power', u'maclaurin', u'seri', u'maclaurin', u'seri', u'start', u'maclaurin', u'seri', u'plug', u'sup', u'sup', u'multipli', u'integr', u'give', u'plug', u'endpoint', u'first', u'three', u'nonzero', u'term', u'integr', u'sum', u'infin', u'exponenti', u'fraction', u'greater_than', u'cdot', u'infimum']\n",
      "[u'continu', u'random', u'variabl', u'exponenti', u'distribut', u'mean', u'find', u'probabl', u'might', u'begin', u'write', u'formula', u'probabl', u'densiti', u'function', u'exponenti', u'random', u'variabl', u'express', u'probabl', u'greater', u'equal', u'term', u'integr', u'think', u'know', u'mean', u'valu', u'may', u'help', u'term', u'solv', u'ani', u'unknown', u'paramet', u'recal', u'probabl', u'densiti', u'function', u'pdf', u'exponenti', u'random', u'variabl', u'given', u'probabl', u'greater', u'equal', u'given', u'integr', u'pdf', u'infin', u'clearli', u'need', u'valu', u'evalu', u'probabl', u'greater', u'equal', u'determin', u'thi', u'evalu', u'mean', u'compar', u'given', u'valu', u'mean', u'therefor', u'mean', u'thu', u'plug', u'thi', u'result', u'abov', u'find', u'integr', u'infin', u'exponenti', u'fraction', u'greater_than', u'infimum']\n",
      "[u'consid', u'function', u'strong', u'strong', u'let', u'continu', u'random', u'variabl', u'cummul', u'distribut', u'function', u'given', u'part', u'span', u'find', u'probabl', u'densiti', u'function', u'cumul', u'distribut', u'function', u'probabl', u'densiti', u'function', u'relat', u'simpl', u'formula', u'involv', u'integr', u'use', u'fundament', u'theorem', u'calculu', u'chang', u'thi', u'integr', u'relationship', u'one', u'use', u'deriv', u'instead', u'cumul', u'distribut', u'obtain', u'integr', u'probabl', u'densiti', u'function', u'henc', u'probabl', u'densiti', u'function', u'pdf', u'deriv', u'cumul', u'distribut', u'function', u'part', u'henc', u'pdf', u'deriv', u'realli', u'picki', u'might', u'concern', u'endpoint', u'technic', u'deriv', u'defin', u'point', u'due', u'corner', u'howev', u'continu', u'random', u'variabl', u'probabl', u'unaffect', u'isol', u'point', u'deriv', u'cumul', u'distribut', u'function', u'undefin', u'defin', u'pdf', u'abov', u'complet', u'fine', u'fraction', u'arctang', u'pi', u'greater_than']\n",
      "[u'consid', u'function', u'strong', u'strong', u'find', u'valu', u'valid', u'cummul', u'distribut', u'function', u'continu', u'random', u'variabl', u'sketch', u'graph', u'cumul', u'distribut', u'function', u'continu', u'random', u'variabl', u'must', u'satisfi', u'follow', u'ul', u'li', u'li', u'li', u'li', u'li', u'continu', u'li', u'li', u'non', u'decreas', u'li', u'ul', u'follow', u'definit', u'cdf', u'see', u'hint', u'comput', u'ul', u'li', u'li', u'ul', u'ul', u'li', u'li', u'ul', u'ul', u'li', u'impos', u'continu', u'need', u'obvious', u'look', u'left', u'limit', u'give', u'us', u'li', u'ul', u'therefor', u'arctan', u'simpli', u'ul', u'li', u'sinc', u'arctan', u'non', u'decreas', u'li', u'ul', u'strong', u'henc', u'final', u'answer', u'strong', u'dl', u'dd', u'img', u'class', u'question', u'imag', u'src', u'asset', u'raw', u'databas', u'json', u'data', u'math', u'april', u'cdf', u'png', u'alt', u'imag', u'dd', u'dl', u'limit', u'infin', u'fraction', u'arctang', u'pi', u'greater_than', u'infimum']\n",
      "[u'short', u'answer', u'question', u'put', u'answer', u'box', u'provid', u'show', u'work', u'also', u'question', u'worth', u'mark', u'question', u'equal', u'difficulti', u'let', u'constant', u'find', u'valu', u'probabl', u'densiti', u'function', u'integr', u'probabl', u'densiti', u'function', u'given', u'interv', u'must', u'proceed', u'hint', u'tri', u'solv', u'first', u'chang', u'improp', u'integr', u'let', u'endpoint', u'chang', u'thi', u'give', u'sinc', u'use', u'thi', u'yield', u'henc', u'thu', u'second', u'term', u'long', u'equat', u'abov', u'vanish', u'final', u'conclud', u'solv', u'give', u'integr', u'limit', u'infin', u'exponenti', u'greater_than', u'infimum']\n",
      "[u'follow', u'definit', u'integr', u'cannot', u'solv', u'analyt', u'approxim', u'integr', u'base', u'first', u'three', u'non', u'zero', u'term', u'taylor', u'seri', u'around', u'hint', u'taylor', u'seri', u'divid', u'first', u'three', u'term', u'seri', u'integr', u'term', u'term', u'divid', u'first', u'three', u'nonzero', u'term', u'taylor', u'seri', u'henc', u'wolframalpha', u'approxim', u'full', u'integr', u'integr', u'sum', u'infin', u'fraction', u'sine', u'greater_than', u'cdot', u'infimum']\n",
      "[u'consid', u'follow', u'four', u'probabl', u'densiti', u'function', u'pdf', u'img', u'class', u'question', u'imag', u'src', u'asset', u'raw', u'databas', u'json', u'data', u'math', u'april', u'math', u'exam', u'resourc', u'cours', u'math', u'april', u'question', u'imag', u'png', u'alt', u'imag', u'span', u'll', u'strong', u'strong', u'amp', u'pdf', u'ha', u'smallest', u'mean', u'br', u'strong', u'strong', u'amp', u'pdf', u'ha', u'largest', u'varianc', u'br', u'strong', u'strong', u'amp', u'pdf', u'ha', u'smallest', u'standard', u'deviat', u'br', u'strong', u'strong', u'amp', u'pdf', u'ha', u'median', u'larger', u'mean', u'br', u'strong', u'strong', u'amp', u'find', u'maxim', u'probabl', u'densiti', u'br', u'note', u'peak', u'equal', u'height', u'br', u'mean', u'averag', u'expect', u'valu', u'given', u'probabl', u'distribut', u'ha', u'smallest', u'averag', u'valu', u'abl', u'tell', u'look', u'graph', u'first', u'easili', u'deduc', u'look', u'pictur', u'pdf', u'smallest', u'mean', u'pdf', u'largest', u'varianc', u'pdf', u'smallest', u'standard', u'deviat', u'pdf', u'median', u'larger', u'mean', u'symmetri', u'graph', u'mean', u'median', u'decid', u'comput', u'mean', u'median', u'directli', u'thi', u'simpl', u'case', u'constant', u'sinc', u'mean', u'median', u'determin', u'henc', u'larger', u'total', u'area', u'graph', u'must', u'note', u'area', u'triangl', u'equal', u'half', u'base', u'length', u'time', u'height', u'triangl', u'area', u'base', u'length', u'height', u'therefor', u'maxim', u'probabl', u'densiti', u'henc', u'integr', u'square_root', u'fraction', u'greater_than', u'cdot']\n",
      "[u'room', u'two', u'differ', u'lightbulb', u'instal', u'accord', u'packag', u'lightbulb', u'fail', u'befor', u'time', u'probabl', u'month', u'lightbulb', u'ha', u'probabl', u'densiti', u'function', u'failur', u'time', u'given', u'probabl', u'lightbulb', u'still', u'work', u'month', u'light', u'bulb', u'still', u'work', u'month', u'onli', u'ha', u'fail', u'befor', u'month', u'probabl', u'lightbulb', u'still', u'work', u'month', u'equal', u'probabl', u'ha', u'strong', u'strong', u'fail', u'befor', u'month', u'probabl', u'lightbulb', u'still', u'work', u'month', u'equal', u'probabl', u'fail', u'time', u'greater', u'probabl', u'strong', u'strong', u'lightbulb', u'still', u'work', u'month', u'equal', u'product', u'two', u'probabl', u'found', u'abov', u'integr', u'infin', u'exponenti', u'fraction', u'greater_than', u'infimum']\n",
      "[u'room', u'two', u'differ', u'lightbulb', u'instal', u'accord', u'packag', u'lightbulb', u'fail', u'befor', u'time', u'probabl', u'month', u'lightbulb', u'ha', u'probabl', u'densiti', u'function', u'failur', u'time', u'given', u'determin', u'constant', u'probabl', u'densiti', u'function', u'failur', u'time', u'lightbulb', u'sinc', u'probabl', u'densiti', u'function', u'doe', u'need', u'sinc', u'probabl', u'densiti', u'function', u'henc', u'therefor', u'integr', u'infin', u'exponenti', u'fraction', u'greater_than', u'infimum']\n",
      "[u'answer', u'follow', u'multipl', u'choic', u'question', u'check', u'answer', u'veri', u'care', u'answer', u'mark', u'right', u'wrong', u'work', u'consid', u'thi', u'problem', u'taylor', u'seri', u'point', u'coeffici', u'sup', u'sup', u'term', u'dl', u'dd', u'dd', u'dl', u'dl', u'dd', u'dd', u'dl', u'dl', u'dd', u'dd', u'dl', u'dl', u'dd', u'dd', u'dl', u'taylor', u'seri', u'taylor', u'seri', u'multipli', u'recal', u'therefor', u'coeffici', u'sup', u'sup', u'term', u'correct', u'answer', u'log', u'fraction', u'greater_than', u'cdot']\n",
      "[u'professor', u'never', u'finish', u'hi', u'class', u'time', u'time', u'delay', u'given', u'probabl', u'densiti', u'function', u'use', u'fact', u'strong', u'strong', u'constant', u'probabl', u'densiti', u'function', u'need', u'satisfi', u'two', u'condit', u'ul', u'li', u'li', u'li', u'li', u'ul', u'choos', u'condit', u'fulfil', u'order', u'satisfi', u'second', u'condit', u'given', u'hint', u'must', u'follow', u'equal', u'hold', u'howev', u'thi', u'easi', u'enough', u'solv', u'especi', u'rememb', u'henc', u'use', u'integr', u'infin', u'square_root', u'fraction', u'arctang', u'pi', u'greater_than', u'infimum']\n",
      "[u'professor', u'never', u'finish', u'hi', u'class', u'time', u'time', u'delay', u'given', u'probabl', u'densiti', u'function', u'use', u'fact', u'strong', u'strong', u'averag', u'delay', u'averag', u'random', u'variabl', u'probabl', u'densiti', u'function', u'given', u'use', u'valu', u'found', u'previou', u'question', u'formula', u'mean', u'given', u'hint', u'know', u'mean', u'found', u'use', u'follow', u'integr', u'solv', u'integr', u'find', u'mean', u'integr', u'infin', u'log', u'square_root', u'fraction', u'arctang', u'pi', u'greater_than', u'infimum']\n",
      "[u'strong', u'taylor', u'seri', u'strong', u'find', u'first', u'five', u'term', u'taylor', u'seri', u'centr', u'polynomi', u'highest', u'power', u'first', u'notic', u'question', u'ask', u'first', u'term', u'first', u'nonzero', u'term', u'thu', u'possibl', u'grind', u'thi', u'simpli', u'take', u'deriv', u'mechan', u'plug', u'deriv', u'taylor', u'seri', u'formula', u'given', u'use', u'ftc', u'get', u'next', u'deriv', u'via', u'chain', u'rule', u'next', u'deriv', u'via', u'quotient', u'rule', u'last', u'deriv', u'thu', u'fourth', u'taylor', u'polynomi', u'requir', u'integr', u'sum', u'infin', u'log', u'fraction', u'greater_than', u'cdot', u'infimum']\n",
      "[u'let', u'probabl', u'densiti', u'function', u'defin', u'interv', u'determin', u'whether', u'follow', u'statement', u'let', u'deriv', u'satisfi', u'use', u'fundament', u'theorem', u'calculu', u'fundament', u'theorem', u'calculu', u'thu', u'probabl', u'densiti', u'function', u'particular', u'integr', u'fraction', u'greater_than']\n",
      "[u'continu', u'random', u'variabl', u'ha', u'probabl', u'densiti', u'function', u'form', u'constant', u'valu', u'dl', u'dd', u'dd', u'dl', u'dl', u'dd', u'dd', u'dl', u'dl', u'dd', u'dd', u'dl', u'dl', u'dd', u'dd', u'dl', u'dl', u'dd', u'dd', u'dl', u'recal', u'probabl', u'densiti', u'function', u'ha', u'satisfi', u'two', u'condit', u'ul', u'li', u'li', u'li', u'li', u'ul', u'use', u'hint', u'first', u'integr', u'make', u'sure', u'integr', u'keep', u'mind', u'note', u'surpris', u'cancel', u'becaus', u'term', u'odd', u'thu', u'cancel', u'integr', u'calcul', u'abov', u'tell', u'us', u'strong', u'strong', u'constant', u'need', u'ensur', u'veri', u'small', u'absolut', u'valu', u'neg', u'number', u'linear', u'term', u'domin', u'quadrat', u'term', u'suspect', u'onli', u'option', u'keep', u'posit', u'let', u'math', u'show', u'posit', u'suffic', u'show', u'posit', u'global', u'minimum', u'extrem', u'valu', u'theorem', u'thi', u'global', u'minimum', u'occur', u'either', u'critic', u'point', u'endpoint', u'interv', u'find', u'critic', u'point', u'convinc', u'local', u'minimum', u'set', u'zero', u'henc', u'local', u'minimum', u'thi', u'point', u'valu', u'ani', u'sinc', u'need', u'point', u'includ', u'thi', u'critic', u'point', u'satisfi', u'demand', u'strong', u'strong', u'thi', u'choic', u'notic', u'local', u'minimum', u'global', u'minimum', u'therefor', u'strong', u'final', u'answer', u'iii', u'strong', u'integr', u'infin', u'fraction', u'greater_than', u'infimum']\n",
      "[u'probabl', u'newli', u'divid', u'cell', u'divid', u'strong', u'befor', u'strong', u'hour', u'given', u'start', u'observ', u'cell', u'immedi', u'divis', u'long', u'averag', u'would', u'wait', u'see', u'next', u'divis', u'recal', u'averag', u'valu', u'continu', u'random', u'variabl', u'valu', u'probabl', u'densiti', u'function', u'defin', u'get', u'cumul', u'function', u'probabl', u'densiti', u'function', u'need', u'take', u'deriv', u'appli', u'definit', u'expect', u'valu', u'random', u'variabl', u'denot', u'wait', u'time', u'thi', u'improp', u'integr', u'treat', u'caution', u'solv', u'appli', u'integr', u'part', u'obtain', u'integr', u'limit', u'infin', u'exponenti', u'fraction', u'greater_than', u'infimum', u'transpos']\n",
      "[u'follow', u'multipl', u'choic', u'question', u'one', u'correct', u'answer', u'circl', u'correspond', u'roman', u'numer', u'second', u'order', u'taylor', u'polynomi', u'around', u'one', u'follow', u'function', u'ii', u'iii', u'iv', u'content', u'found', u'content', u'found', u'exponenti', u'sine', u'cosin', u'greater_than']\n",
      "[u'let', u'time', u'hour', u'take', u'cell', u'divis', u'occur', u'suppos', u'continu', u'random', u'variabl', u'interv', u'cell', u'alway', u'divid', u'less', u'hour', u'probabl', u'densiti', u'find', u'content', u'found', u'content', u'found', u'square_root', u'greater_than']\n",
      "[u'let', u'matrix', u'linear', u'transform', u'suppos', u'know', u'eigenvector', u'associ', u'eigenvalu', u'respect', u'calcul', u'sinc', u'matrix', u'linear', u'transform', u'linear', u'transform', u'act', u'vector', u'get', u'given', u'span', u'part', u'question', u'given', u'eigenvalu', u'eigenvector', u'know', u'therefor', u'matrix', u'greater_than']\n",
      "[u'consid', u'matrix', u'use', u'span', u'part', u'explicitli', u'comput', u'ani', u'posit', u'integ', u'recal', u'thi', u'help', u'us', u'simplifi', u'span', u'part', u'take', u'power', u'yield', u'matrix', u'fraction', u'greater_than', u'cdot']\n",
      "[u'let', u'matrix', u'given', u'known', u'eigenvalu', u'find', u'eigenvalu', u'comput', u'root', u'characterist', u'polynomi', u'given', u'let', u'comput', u'characterist', u'polynomi', u'solv', u'root', u'give', u'eigenvalu', u'matrix', u'greater_than', u'determin']\n",
      "[u'let', u'matrix', u'given', u'known', u'eigenvalu', u'find', u'eigenvector', u'associ', u'comput', u'matric', u'check', u'eigenvector', u'inspect', u'nullspac', u'thi', u'new', u'matrix', u'valu', u'simplifi', u'matter', u'use', u'vector', u'middl', u'entri', u'equal', u'comput', u'matric', u'check', u'nullspac', u'thi', u'see', u'eigenvector', u'associ', u'get', u'eigenvector', u'multipli', u'thi', u'vector', u'ani', u'non', u'zero', u'number', u'repeat', u'thi', u'thi', u'see', u'eigenvector', u'associ', u'get', u'eigenvector', u'multipli', u'thi', u'vector', u'ani', u'non', u'zero', u'number', u'matrix', u'greater_than']\n",
      "[u'let', u'unit', u'vector', u'show', u'strong', u'strong', u'matrix', u'invert', u'think', u'eigenvalu', u'recal', u'part', u'recal', u'definit', u'eigenvalu', u'know', u'one', u'eigenvalu', u'invert', u'onli', u'span', u'part', u'know', u'symmetr', u'matrix', u'symmetr', u'matrix', u'onli', u'real', u'eigenvalu', u'sinc', u'real', u'eigenvalu', u'never', u'equal', u'zero', u'therefor', u'matrix', u'invert', u'greater_than']\n",
      "[u'suppos', u'symmetr', u'matrix', u'eigenvalu', u'defin', u'sequenc', u'vector', u'choos', u'strong', u'strong', u'sub', u'sub', u'random', u'set', u'observ', u'strong', u'strong', u'sub', u'sub', u'converg', u'strong', u'strong', u'valu', u'inner', u'dot', u'product', u'recal', u'span', u'part', u'part', u'recal', u'wa', u'eigenvalu', u'associ', u'eigenvector', u'use', u'find', u'solut', u'infin', u'greater_than', u'cdot', u'infimum', u'transpos']\n",
      "[u'suppos', u'symmetr', u'matrix', u'eigenvalu', u'defin', u'sequenc', u'vector', u'choos', u'random', u'set', u'observ', u'sub', u'sub', u'converg', u'strong', u'strong', u'power', u'iter', u'procedur', u'converg', u'vector', u'eigenvector', u'correspond', u'largest', u'eigenvalu', u'matrix', u'question', u'thi', u'question', u'matrix', u'use', u'hint', u'know', u'eigenvector', u'associ', u'largest', u'eigenvalu', u'matrix', u'eigenvalu', u'eigenvalu', u'shift', u'eigenvector', u'see', u'thi', u'note', u'eigenvector', u'sinc', u'ha', u'eigenvalu', u'matrix', u'ha', u'eigenvalu', u'next', u'eigenvalu', u'invers', u'reciproc', u'origin', u'eigenvalu', u'eigenvector', u'henc', u'eigenvalu', u'see', u'domin', u'eigenvalu', u'therefor', u'power', u'method', u'eigenvector', u'eigenvalu', u'thi', u'mean', u'also', u'eigenvector', u'eigenvalu', u'word', u'infin', u'greater_than', u'infimum', u'transpos']\n",
      "[u'suppos', u'symmetr', u'matrix', u'eigenvalu', u'defin', u'sequenc', u'vector', u'choos', u'strong', u'strong', u'sub', u'sub', u'random', u'set', u'observ', u'strong', u'strong', u'sub', u'sub', u'converg', u'strong', u'strong', u'vector', u'doe', u'converg', u'take', u'limit', u'side', u'definit', u'take', u'limit', u'side', u'yield', u'use', u'span', u'part', u'eigenvector', u'eigenvalu', u'limit', u'infin', u'greater_than', u'infimum', u'transpos']\n",
      "[u'consid', u'matrix', u'find', u'eigenvalu', u'content', u'found', u'alreadi', u'verifi', u'eigenvalu', u'part', u'determin', u'possibl', u'eigenvalu', u'solv', u'let', u'us', u'make', u'use', u'fact', u'ad', u'multipl', u'one', u'row', u'anoth', u'doe', u'chang', u'determin', u'avoid', u'lot', u'comput', u'ad', u'second', u'row', u'third', u'subtract', u'time', u'second', u'row', u'first', u'yield', u'matrix', u'ha', u'determin', u'ha', u'expand', u'first', u'column', u'determin', u'therefor', u'eigenvalu', u'matrix', u'greater_than', u'determin']\n",
      "[u'let', u'linear', u'map', u'given', u'reflect', u'across', u'line', u'find', u'basi', u'consist', u'eigenvalu', u'explain', u'whi', u'thi', u'possibl', u'content', u'found', u'sinc', u'reflect', u'doe', u'chang', u'length', u'ani', u'vector', u'therefor', u'onli', u'possibl', u'eigenvalu', u'eigenvalu', u'correspond', u'vector', u'remain', u'invari', u'therefor', u'vector', u'must', u'lie', u'line', u'reflect', u'particular', u'see', u'eigenvector', u'correspond', u'eigenvalu', u'lie', u'line', u'eigenvalu', u'correspond', u'degre', u'revers', u'orient', u'vector', u'must', u'therefor', u'lie', u'line', u'line', u'reflect', u'ani', u'vector', u'lie', u'line', u'sinc', u'lie', u'line', u'conclud', u'eigenvector', u'correspond', u'eigenvalu', u'therefor', u'two', u'linearli', u'independ', u'eigenvector', u'form', u'basi', u'matrix', u'fraction', u'greater_than']\n",
      "[u'let', u'linear', u'map', u'whose', u'matrix', u'given', u'direct', u'find', u'basi', u'consist', u'eigenvalu', u'explain', u'whi', u'thi', u'possibl', u'content', u'found', u'basi', u'exist', u'note', u'onli', u'eigenvalu', u'characterist', u'polynomi', u'determin', u'eigenvector', u'correspond', u'eigenvalu', u'solv', u'correspond', u'equat', u'thu', u'eigenvector', u'onli', u'thi', u'mean', u'onli', u'strong', u'one', u'strong', u'linearli', u'independ', u'eigenvector', u'name', u'basi', u'consist', u'two', u'linearli', u'independ', u'vector', u'exist', u'basi', u'consist', u'eigenvector', u'matrix', u'greater_than']\n",
      "[u'let', u'linear', u'map', u'given', u'find', u'basi', u'consist', u'eigenvalu', u'explain', u'whi', u'thi', u'possibl', u'content', u'found', u'note', u'everi', u'non', u'zero', u'vector', u'eigenvector', u'correspond', u'eigenvalu', u'particular', u'standard', u'basi', u'basi', u'consist', u'eigenvector', u'matrix', u'greater_than']\n",
      "[u'consid', u'matrix', u'eigenvalu', u'find', u'dimens', u'correspond', u'eigenspac', u'content', u'found', u'part', u'know', u'eigenvalu', u'also', u'saw', u'part', u'eigenvalu', u'repeat', u'root', u'characterist', u'polynomi', u'eigenvalu', u'definit', u'dimens', u'respect', u'eigenspac', u'well', u'recal', u'dimens', u'eigenspac', u'ul', u'li', u'eigenvalu', u'repeat', u'root', u'characterist', u'polynomi', u'dimens', u'eigenspac', u'must', u'equal', u'li', u'ul', u'ul', u'li', u'eigenvalu', u'twice', u'repeat', u'root', u'characterist', u'polynomi', u'therefor', u'dimens', u'eigenspac', u'may', u'either', u'need', u'investig', u'determin', u'one', u'li', u'ul', u'calcul', u'dimens', u'eigenspac', u'correspond', u'eigenvalu', u'want', u'determin', u'dimens', u'kernel', u'three', u'row', u'multipl', u'therefor', u'rank', u'nulliti', u'theorem', u'conclus', u'ul', u'li', u'eigenvalu', u'dimens', u'eigenspac', u'li', u'li', u'eigenvalu', u'dimens', u'eigenspac', u'li', u'ul', u'matrix', u'greater_than']\n",
      "[u'let', u'linear', u'map', u'given', u'rotat', u'clockwis', u'degre', u'find', u'basi', u'consist', u'eigenvalu', u'explain', u'whi', u'thi', u'possibl', u'content', u'found', u'basi', u'consist', u'eigenvector', u'thi', u'becaus', u'ha', u'eigenvector', u'whi', u'eigenvector', u'rotat', u'doe', u'chang', u'length', u'onli', u'possibl', u'valu', u'thi', u'impli', u'lie', u'either', u'parallel', u'anti', u'parallel', u'thi', u'imposs', u'clockwis', u'rotat', u'degre', u'therefor', u'ha', u'eigenvector', u'greater_than']\n",
      "[u'let', u'find', u'invert', u'matrix', u'diagon', u'matrix', u'need', u'find', u'content', u'found', u'diagon', u'matrix', u'eigenvalu', u'eigenvalu', u'invert', u'matrix', u'correspond', u'eigenvector', u'eigenvector', u'correspond', u'eigenvalu', u'first', u'thing', u'need', u'determin', u'eigenvalu', u'thi', u'take', u'thi', u'get', u'comput', u'determin', u'get', u'therefor', u'eigenvalu', u'next', u'must', u'comput', u'eigenvector', u'correspond', u'eigenvalu', u'thi', u'must', u'solv', u'eigenvalu', u'eigenvector', u'combin', u'solv', u'thi', u'get', u'solv', u'thi', u'get', u'solv', u'thi', u'get', u'eigenvalu', u'eigenvector', u'put', u'matric', u'get', u'check', u'matric', u'correct', u'comput', u'thi', u'calcul', u'see', u'matrix', u'greater_than']\n",
      "[u'find', u'number', u'make', u'matrix', u'diagonaliz', u'need', u'diagon', u'content', u'found', u'matrix', u'diagonaliz', u'matrix', u'must', u'distinct', u'eigenvector', u'first', u'let', u'find', u'eigenvalu', u'solv', u'equat', u'abov', u'get', u'got', u'doubl', u'root', u'need', u'correspond', u'eigenvector', u'order', u'eigenvector', u'need', u'free', u'variabl', u'need', u'solv', u'thi', u'get', u'matrix', u'fraction', u'greater_than']\n",
      "[u'let', u'reflect', u'across', u'line', u'let', u'standard', u'matrix', u'thi', u'linear', u'transform', u'find', u'matrix', u'content', u'found', u'part', u'know', u'eigenvalu', u'eigenvector', u'eigenvalu', u'eigenvector', u'form', u'matrix', u'whose', u'column', u'eigenvector', u'correspond', u'diagon', u'matrix', u'know', u'matrix', u'decompos', u'via', u'standard', u'matrix', u'diagon', u'upon', u'comput', u'multipli', u'three', u'matric', u'togeth', u'find', u'quick', u'check', u'work', u'verifi', u'inde', u'matrix', u'fraction', u'greater_than']\n",
      "[u'let', u'reflect', u'across', u'line', u'let', u'standard', u'matrix', u'thi', u'linear', u'transform', u'find', u'basi', u'consist', u'eigenvector', u'content', u'found', u'first', u'note', u'reflect', u'map', u'leav', u'length', u'vector', u'unchang', u'thi', u'import', u'allow', u'us', u'determin', u'eigenvalu', u'eigenvector', u'without', u'ever', u'explicitli', u'determin', u'sinc', u'leav', u'length', u'vector', u'unchang', u'onli', u'eigenvalu', u'eigenvalu', u'correspond', u'vector', u'invari', u'reflect', u'thi', u'vector', u'must', u'therefor', u'lie', u'line', u'vector', u'coordin', u'lie', u'line', u'conclud', u'eigenvector', u'correspond', u'eigenvalu', u'eigenvalu', u'correspond', u'vector', u'reflect', u'ha', u'degre', u'revers', u'orient', u'vector', u'necessarili', u'must', u'lie', u'line', u'line', u'equat', u'thi', u'perpendicular', u'line', u'given', u'vector', u'lie', u'thi', u'perpendicular', u'line', u'therefor', u'eigenvector', u'correspond', u'eigenvalu', u'henc', u'conclud', u'basi', u'consist', u'eigenvector', u'matrix', u'greater_than']\n",
      "[u'eigenvector', u'also', u'eigenvector', u'content', u'found', u'answer', u'strong', u'true', u'strong', u'suppos', u'eigenvector', u'correspond', u'eigenvalu', u'thi', u'mean', u'multipli', u'find', u'henc', u'also', u'eigenvector', u'correspond', u'eigenvalu', u'greater_than']\n",
      "[u'matrix', u'eigenvector', u'correspond', u'eigenvalu', u'content', u'found', u'answer', u'strong', u'fals', u'strong', u'let', u'denot', u'given', u'vector', u'matrix', u'ha', u'eigenvector', u'correspond', u'respect', u'eigenvalu', u'onli', u'thu', u'matrix', u'exist', u'onli', u'invert', u'onli', u'linearli', u'independ', u'calcul', u'therefor', u'invert', u'desir', u'matrix', u'given', u'comput', u'invers', u'necessari', u'answer', u'question', u'determin', u'explicit', u'form', u'matrix', u'greater_than', u'determin']\n",
      "[u'true', u'fals', u'explain', u'answer', u'similar', u'matric', u'eigenvalu', u'two', u'matric', u'similar', u'relat', u'respect', u'characterist', u'polynomi', u'doe', u'characterist', u'polynomi', u'matrix', u'relat', u'eigenvalu', u'statement', u'true', u'similar', u'invert', u'matrix', u'write', u'therefor', u'comput', u'thi', u'equal', u'mean', u'precis', u'characterist', u'polynomi', u'ident', u'sinc', u'eigenvalu', u'matrix', u'zero', u'characterist', u'polynomi', u'characterist', u'polynomi', u'ident', u'conclud', u'eigenvalu', u'greater_than', u'determin']\n",
      "[u'true', u'fals', u'true', u'give', u'proof', u'fals', u'provid', u'counterexampl', u'suppos', u'matrix', u'characterist', u'polynomi', u'diagonaliz', u'matrix', u'diagonaliz', u'ha', u'distinct', u'eigenvalu', u'whi', u'true', u'statement', u'strong', u'fals', u'strong', u'construct', u'counterexampl', u'need', u'find', u'matrix', u'ha', u'characterist', u'polynomi', u'ha', u'onli', u'strong', u'one', u'strong', u'linearli', u'independ', u'eigenvector', u'first', u'matrix', u'come', u'mind', u'ha', u'characterist', u'polynomi', u'scalar', u'multipl', u'ident', u'matrix', u'howev', u'thi', u'clearli', u'isn', u'counterexampl', u'becaus', u'diagon', u'matrix', u'modifi', u'isn', u'diagon', u'matrix', u'still', u'ha', u'characterist', u'polynomi', u'first', u'simpl', u'modif', u'investig', u'diagonaliz', u'requir', u'ha', u'onli', u'one', u'linearli', u'independ', u'eigenvector', u'mean', u'onli', u'one', u'linearli', u'independ', u'solut', u'clearli', u'case', u'onli', u'linearli', u'independ', u'eigenvector', u'therefor', u'counterexampl', u'statement', u'matrix', u'greater_than']\n",
      "[u'find', u'eigenvalu', u'eigenvector', u'recal', u'eigenvalu', u'eigenvector', u'calcul', u'eigenvalu', u'need', u'find', u'valu', u'ha', u'non', u'trivial', u'kernel', u'good', u'way', u'check', u'thi', u'look', u'zero', u'determin', u'matrix', u'abov', u'luckili', u'us', u'polynomi', u'alreadi', u'factor', u'simpli', u'read', u'eigenvalu', u'find', u'eigenvector', u'correspond', u'eigenvalu', u'solv', u'thi', u'equat', u'thu', u'eigenvector', u'associ', u'repeat', u'step', u'give', u'us', u'eigenvector', u'equat', u'thu', u'eigenvector', u'correspond', u'summar', u'eigenvalu', u'correspond', u'eigenvector', u'eigenvalu', u'correspond', u'eigenvector', u'matrix', u'greater_than']\n",
      "[u'let', u'squar', u'matrix', u'eigenvector', u'correspond', u'eigenvalu', u'show', u'cv', u'also', u'eigenvector', u'eigenvalu', u'ani', u'nonzero', u'constant', u'content', u'found', u'let', u'therefor', u'also', u'eigenvector', u'eigenvalu', u'greater_than']\n",
      "[u'find', u'gener', u'solut', u'homogen', u'linear', u'system', u'sketch', u'phase', u'portrait', u'typic', u'trajectori', u'plane', u'good', u'start', u'would', u'find', u'eigenvalu', u'eigenvector', u'thi', u'way', u'see', u'solut', u'trajectori', u'behav', u'grow', u'shrink', u'differ', u'direct', u'begin', u'find', u'eigenvalu', u'eigenvector', u'characterist', u'polynomi', u'ha', u'root', u'find', u'eigenvector', u'eigenvalu', u'seek', u'nullspac', u'equat', u'impli', u'first', u'row', u'second', u'redund', u'take', u'equat', u'impli', u'first', u'row', u'second', u'take', u'eigenvector', u'gener', u'solut', u'origin', u'saddl', u'point', u'becaus', u'eigenvalu', u'real', u'opposit', u'sign', u'along', u'direct', u'solut', u'grow', u'exponenti', u'along', u'direct', u'solut', u'decay', u'exponenti', u'point', u'approach', u'line', u'span', u'thi', u'display', u'figur', u'img', u'class', u'question', u'imag', u'src', u'asset', u'raw', u'databas', u'json', u'data', u'math', u'decemb', u'wiki', u'asketch', u'wt', u'png', u'alt', u'imag', u'infin', u'matrix', u'array', u'exponenti', u'greater_than', u'infimum']\n",
      "[u'find', u'first', u'three', u'nonzero', u'term', u'maclaurian', u'seri', u'power', u'seri', u'maclurian', u'seri', u'given', u'could', u'comput', u'deriv', u'hand', u'thi', u'would', u'long', u'arduou', u'process', u'thi', u'effici', u'use', u'exam', u'time', u'use', u'known', u'seri', u'note', u'follow', u'first', u'three', u'nonzero', u'term', u'maclurian', u'seri', u'fraction', u'sine', u'greater_than', u'cdot']\n",
      "[u'strong', u'short', u'answer', u'question', u'strong', u'show', u'work', u'simplifi', u'answer', u'much', u'possibl', u'use', u'maclaurin', u'seri', u'number', u'found', u'approxim', u'give', u'best', u'upper', u'bound', u'direct', u'integr', u'option', u'becaus', u'anti', u'deriv', u'sup', u'sup', u'sup', u'sup', u'sup', u'sup', u'calcul', u'instead', u'start', u'write', u'integrand', u'seri', u'integr', u'term', u'term', u'recal', u'maclauren', u'seri', u'integrand', u'found', u'therefor', u'integr', u'term', u'term', u'give', u'thi', u'confirm', u'given', u'approxim', u'moreov', u'thi', u'show', u'integr', u'repres', u'altern', u'seri', u'form', u'sinc', u'posit', u'number', u'sub', u'sub', u'evid', u'monoton', u'decreas', u'say', u'error', u'bound', u'partial', u'sum', u'given', u'next', u'term', u'sub', u'sub', u'thi', u'case', u'statement', u'translat', u'bound', u'integr', u'sum', u'infin', u'exponenti', u'fraction', u'greater_than', u'cdot', u'infimum']\n",
      "[u'evalu', u'altern', u'seri', u'test', u'ast', u'altern', u'seri', u'esim', u'theorem', u'aset', u'tell', u'exact', u'valu', u'altern', u'seri', u'key', u'word', u'strong', u'evalu', u'strong', u'impli', u'way', u'find', u'exact', u'valu', u'seri', u'doe', u'seri', u'look', u'like', u'familiar', u'maclaurin', u'seri', u'function', u'evalu', u'certain', u'point', u'recal', u'maclaurin', u'seri', u'radiu', u'converg', u'put', u'obtain', u'given', u'seri', u'henc', u'find', u'sum', u'infin', u'log', u'fraction', u'greater_than', u'infimum']\n",
      "[u'let', u'valu', u'posit', u'constant', u'probabl', u'densiti', u'function', u'probabl', u'densiti', u'function', u'need', u'satisfi', u'two', u'condit', u'ul', u'li', u'li', u'li', u'li', u'ul', u'choos', u'condit', u'fulfil', u'strong', u'strong', u'use', u'hint', u'see', u'first', u'need', u'posit', u'constant', u'calcul', u'explicitli', u'integr', u'onli', u'way', u'thi', u'integr', u'ha', u'valu', u'strong', u'strong', u'integr', u'infin', u'fraction', u'greater_than', u'infimum']\n",
      "[u'let', u'write', u'first', u'three', u'nonzero', u'term', u'obtain', u'use', u'maclaurin', u'seri', u'estim', u'explain', u'whi', u'error', u'use', u'thi', u'estim', u'less', u'maclaurin', u'seri', u'suggest', u'hint', u'know', u'plug', u'give', u'integr', u'give', u'use', u'first', u'three', u'term', u'integr', u'give', u'thi', u'expans', u'correct', u'within', u'show', u'use', u'altern', u'seri', u'estim', u'theorem', u'know', u'decreas', u'term', u'also', u'limit', u'clearli', u'thi', u'altern', u'seri', u'henc', u'error', u'abov', u'use', u'three', u'term', u'wors', u'fourth', u'term', u'tell', u'us', u'henc', u'error', u'bound', u'abov', u'thi', u'complet', u'question', u'integr', u'sum', u'infin', u'fraction', u'cosin', u'greater_than', u'infimum']\n",
      "[u'find', u'first', u'three', u'nonzero', u'term', u'power', u'seri', u'represent', u'power', u'maclaurin', u'seri', u'maclaurin', u'seri', u'appli', u'maclaurin', u'seri', u'get', u'multipli', u'get', u'integr', u'get', u'appli', u'endpoint', u'give', u'first', u'three', u'nonzero', u'term', u'complet', u'question', u'integr', u'sum', u'infin', u'fraction', u'cosin', u'greater_than', u'cdot', u'infimum']\n",
      "[u'give', u'first', u'three', u'nonzero', u'term', u'maclaurin', u'seri', u'power', u'seri', u'br', u'first', u'comput', u'maclaurin', u'seri', u'integrand', u'sinc', u'maclaurin', u'seri', u'maclaurin', u'seri', u'henc', u'first', u'nonzero', u'term', u'maclaurin', u'seri', u'integrand', u'anti', u'differenti', u'obtain', u'first', u'nonzero', u'term', u'indefinit', u'integr', u'integr', u'sum', u'infin', u'exponenti', u'fraction', u'greater_than', u'infimum']\n",
      "[u'let', u'random', u'variabl', u'probabl', u'densiti', u'function', u'find', u'valu', u'find', u'mean', u'find', u'algebra', u'equat', u'satisfi', u'median', u'probabl', u'densiti', u'function', u'need', u'satisfi', u'two', u'condit', u'ul', u'li', u'li', u'li', u'li', u'ul', u'choos', u'condit', u'fulfil', u'strong', u'strong', u'use', u'hint', u'see', u'need', u'posit', u'constant', u'calcul', u'directli', u'integr', u'onli', u'way', u'thi', u'integr', u'ha', u'valu', u'strong', u'strong', u'integr', u'infin', u'fraction', u'greater_than', u'infimum']\n",
      "[u'full', u'solut', u'problem', u'justifi', u'answer', u'show', u'work', u'simplif', u'answer', u'requir', u'random', u'variabl', u'probabl', u'densiti', u'function', u'find', u'median', u'median', u'defin', u'number', u'satisfi', u'sinc', u'follow', u'gt', u'directli', u'comput', u'use', u'substitut', u'sup', u'sup', u'sup', u'sup', u'henc', u'word', u'satisfi', u'note', u'rule', u'solut', u'sinc', u'alreadi', u'note', u'posit', u'henc', u'solut', u'integr', u'infin', u'exponenti', u'log', u'square_root', u'fraction', u'greater_than', u'infimum']\n",
      "[u'length', u'time', u'minut', u'take', u'student', u'solv', u'certain', u'mathemat', u'problem', u'probabl', u'continu', u'random', u'variabl', u'whose', u'probabl', u'densiti', u'function', u'probabl', u'student', u'take', u'less', u'minut', u'complet', u'problem', u'continu', u'random', u'variabl', u'probabl', u'densiti', u'function', u'probabl', u'event', u'happen', u'student', u'take', u'minut', u'complet', u'question', u'hi', u'complet', u'time', u'anywher', u'henc', u'probabl', u'look', u'use', u'substitut', u'span', u'part', u'integr', u'square_root', u'fraction', u'sine', u'cosin', u'pi', u'greater_than']\n",
      "[u'length', u'time', u'minut', u'take', u'student', u'solv', u'certain', u'mathemat', u'problem', u'probabl', u'continu', u'random', u'variabl', u'whose', u'probabl', u'densiti', u'function', u'find', u'valu', u'posit', u'constant', u'probabl', u'densiti', u'function', u'need', u'satisfi', u'two', u'condit', u'ul', u'li', u'li', u'li', u'li', u'ul', u'choos', u'condit', u'fulfil', u'first', u'note', u'ani', u'henc', u'need', u'well', u'satisfi', u'second', u'condit', u'requir', u'integr', u'easili', u'solv', u'use', u'substitut', u'henc', u'need', u'choos', u'henc', u'choos', u'integr', u'infin', u'fraction', u'sine', u'cosin', u'pi', u'greater_than', u'infimum']\n",
      "[u'length', u'time', u'minut', u'take', u'student', u'solv', u'certain', u'mathemat', u'problem', u'probabl', u'continu', u'random', u'variabl', u'whose', u'probabl', u'densiti', u'function', u'comput', u'mean', u'length', u'time', u'requir', u'solv', u'problem', u'mean', u'random', u'variabl', u'probabl', u'densiti', u'function', u'given', u'definit', u'mean', u'know', u'calcul', u'mean', u'suggest', u'hint', u'choos', u'sup', u'sup', u'find', u'use', u'procedur', u'alreadi', u'use', u'part', u'part', u'substitut', u'let', u'use', u'instead', u'sinc', u'alreadi', u'use', u'integr', u'part', u'find', u'thi', u'intermedi', u'result', u'go', u'work', u'calcul', u'mean', u'let', u'comput', u'last', u'integr', u'separ', u'onli', u'come', u'back', u'thi', u'equat', u'need', u'trigonometr', u'ident', u'thi', u'obtain', u'former', u'integr', u'standard', u'latter', u'substitut', u'dz', u'henc', u'alright', u'want', u'right', u'need', u'calcul', u'thi', u'valu', u'find', u'go', u'back', u'equat', u'complet', u'question', u'plug', u'result', u'integr', u'infin', u'fraction', u'sine', u'cosin', u'pi', u'greater_than', u'infimum']\n",
      "[u'maclaurin', u'seri', u'given', u'ha', u'radiu', u'converg', u'equal', u'use', u'thi', u'fact', u'comput', u'exact', u'valu', u'seri', u'visual', u'inspect', u'see', u'term', u'match', u'express', u'term', u'correspond', u'move', u'denomin', u'numer', u'thu', u'want', u'get', u'two', u'term', u'match', u'rearrang', u'term', u'achiev', u'thi', u'goal', u'evalu', u'need', u'make', u'look', u'like', u'sum', u'start', u'denomin', u'therefor', u'need', u'follow', u'hint', u'write', u'make', u'even', u'similar', u'write', u'let', u'write', u'two', u'sum', u'see', u'close', u'wish', u'evalu', u'onli', u'differ', u'two', u'sum', u'factor', u'doesn', u'depend', u'multipli', u'put', u'factor', u'sum', u'also', u'divid', u'factor', u'keep', u'outsid', u'sum', u'sum', u'infin', u'square_root', u'fraction', u'arctang', u'pi', u'greater_than', u'infimum']\n",
      "[u'express', u'taylor', u'seri', u'function', u'summat', u'notat', u'first', u'use', u'fact', u'span', u'part', u'provid', u'lt', u'get', u'power', u'seri', u'per', u'integr', u'make', u'proper', u'substitut', u'lt', u'use', u'integr', u'side', u'obtain', u'sinc', u'lt', u'therefor', u'solv', u'integr', u'constant', u'plug', u'obtain', u'intermedi', u'result', u'arriv', u'summat', u'notat', u'note', u'everi', u'term', u'ha', u'sign', u'term', u'like', u'float', u'around', u'everi', u'integ', u'power', u'includ', u'start', u'divid', u'last', u'step', u'taylor', u'seri', u'found', u'replac', u'seri', u'abov', u'find', u'integr', u'sum', u'infin', u'log', u'fraction', u'greater_than', u'infimum']\n",
      "[u'short', u'answer', u'question', u'put', u'answer', u'box', u'provid', u'show', u'work', u'also', u'question', u'worth', u'mark', u'question', u'equal', u'difficulti', u'comput', u'cumul', u'distribut', u'function', u'correspond', u'probabl', u'densiti', u'function', u'defin', u'cumul', u'distribut', u'function', u'term', u'probabl', u'densiti', u'function', u'rememb', u'cumul', u'distribut', u'function', u'defin', u'term', u'probabl', u'densiti', u'function', u'follow', u'henc', u'determin', u'cumul', u'distribut', u'function', u'given', u'probabl', u'densiti', u'function', u'matter', u'plug', u'particular', u'densiti', u'function', u'definit', u'rememb', u'sinc', u'given', u'densiti', u'function', u'onli', u'defin', u'assum', u'densiti', u'function', u'evalu', u'therefor', u'cumul', u'distribut', u'integr', u'infin', u'fraction', u'greater_than', u'infimum']\n",
      "[u'short', u'answer', u'question', u'put', u'answer', u'box', u'provid', u'show', u'work', u'also', u'question', u'worth', u'mark', u'question', u'equal', u'difficulti', u'find', u'maclaurin', u'seri', u'recal', u'geometr', u'seri', u'summat', u'given', u'valid', u'proceed', u'use', u'geometr', u'seri', u'summat', u'given', u'valid', u'mimic', u'thi', u'proceed', u'via', u'valid', u'sum', u'infin', u'fraction', u'greater_than', u'infimum']\n",
      "[u'short', u'answer', u'question', u'put', u'answer', u'box', u'provid', u'show', u'work', u'also', u'question', u'worth', u'mark', u'question', u'equal', u'difficulti', u'evalu', u'rewrit', u'given', u'sum', u'way', u'look', u'like', u'taylor', u'seri', u'particular', u'well', u'known', u'function', u'evalu', u'particular', u'point', u'thi', u'question', u'challeng', u'solv', u'eleg', u'way', u'use', u'taylor', u'seri', u'begin', u'rewrit', u'sum', u'next', u'set', u'obtain', u'last', u'sum', u'howev', u'taylor', u'seri', u'exponenti', u'function', u'plug', u'back', u'find', u'final', u'answer', u'sum', u'infin', u'exponenti', u'fraction', u'greater_than', u'infimum']\n",
      "[u'short', u'answer', u'question', u'put', u'answer', u'box', u'provid', u'show', u'work', u'also', u'question', u'worth', u'mark', u'question', u'equal', u'difficulti', u'find', u'expect', u'valu', u'random', u'variabl', u'whose', u'probabl', u'densiti', u'function', u'expect', u'valu', u'random', u'variabl', u'probabl', u'densiti', u'function', u'denot', u'given', u'expect', u'valu', u'random', u'variabl', u'probabl', u'densiti', u'function', u'denot', u'given', u'thi', u'case', u'expect', u'valu', u'given', u'therefor', u'integr', u'infin', u'square_root', u'fraction', u'greater_than', u'infimum']\n",
      "[u'let', u'constant', u'find', u'valu', u'probabl', u'densiti', u'function', u'probabl', u'densiti', u'function', u'span', u'span', u'need', u'satisfi', u'constant', u'need', u'chosen', u'integr', u'henc', u'choos', u'integr', u'fraction', u'greater_than']\n",
      "[u'find', u'first', u'three', u'non', u'zero', u'term', u'taylor', u'seri', u'around', u'recal', u'taylor', u'seri', u'function', u'given', u'first', u'three', u'deriv', u'evalu', u'get', u'henc', u'first', u'term', u'taylor', u'seri', u'first', u'three', u'non', u'zero', u'term', u'note', u'actual', u'pretti', u'easi', u'obtain', u'entir', u'taylor', u'seri', u'anyway', u'ani', u'show', u'henc', u'therefor', u'sum', u'infin', u'log', u'fraction', u'greater_than', u'infimum']\n",
      "[u'room', u'two', u'differ', u'lightbulb', u'instal', u'accord', u'packag', u'lightbulb', u'fail', u'befor', u'time', u'probabl', u'month', u'lightbulb', u'ha', u'probabl', u'densiti', u'function', u'failur', u'time', u'given', u'probabl', u'densiti', u'function', u'failur', u'time', u'lightbulb', u'probabl', u'densiti', u'function', u'relat', u'cumul', u'distribut', u'function', u'probabl', u'densiti', u'function', u'deriv', u'cumul', u'distribut', u'function', u'exponenti', u'fraction', u'greater_than']\n",
      "[u'find', u'taylor', u'seri', u'function', u'write', u'answer', u'summat', u'notat', u'hint', u'taylor', u'seri', u'may', u'help', u'taylor', u'seri', u'taylor', u'seri', u'use', u'fact', u'deriv', u'use', u'taylor', u'seri', u'obtain', u'taylor', u'seri', u'specif', u'therefor', u'find', u'multipli', u'taylor', u'seri', u'factor', u'sum', u'infin', u'fraction', u'sine', u'cosin', u'greater_than', u'infimum']\n",
      "[u'consid', u'differenti', u'equat', u'use', u'taylor', u'seri', u'expans', u'find', u'solut', u'initi', u'valu', u'write', u'taylor', u'seri', u'coeffici', u'determin', u'assum', u'solut', u'ha', u'taylor', u'seri', u'expans', u'll', u'use', u'initi', u'condit', u'differenti', u'equat', u'solv', u'coeffient', u'initi', u'condit', u'let', u'start', u'left', u'hand', u'side', u'differenti', u'equat', u'differenti', u'seri', u'term', u'term', u'yield', u'substitut', u'dummi', u'variabl', u'third', u'step', u'renam', u'thi', u'substitut', u'dummi', u'variabl', u'wa', u'done', u'pure', u'lt', u'gt', u'abl', u'compar', u'two', u'taylor', u'seri', u'lh', u'rh', u'differenti', u'equat', u'easili', u'gener', u'help', u'seri', u'start', u'right', u'hand', u'side', u'differenti', u'equat', u'give', u'equat', u'left', u'hand', u'side', u'right', u'hand', u'side', u'differenti', u'equat', u'get', u'differenti', u'equat', u'equat', u'coeffici', u'abov', u'seri', u'coeffici', u'sup', u'sup', u'coeffici', u'sup', u'sup', u'henc', u'exampl', u'similarli', u'see', u'henc', u'solut', u'easili', u'check', u'thi', u'inde', u'solut', u'initi', u'valu', u'problem', u'sum', u'infin', u'fraction', u'greater_than', u'infimum']\n",
      "[u'answer', u'follow', u'multipl', u'choic', u'question', u'check', u'answer', u'veri', u'care', u'answer', u'mark', u'right', u'wrong', u'work', u'consid', u'thi', u'problem', u'follow', u'closest', u'approxim', u'valu', u'integr', u'hint', u'use', u'taylor', u'seri', u'dl', u'dd', u'dd', u'dl', u'dl', u'dd', u'dd', u'dl', u'dl', u'dd', u'dd', u'dl', u'dl', u'dd', u'dd', u'dl', u'recal', u'taylor', u'seri', u'co', u'use', u'first', u'two', u'term', u'simplif', u'integrand', u'taylor', u'expans', u'co', u'keep', u'term', u'sup', u'sup', u'get', u'therefor', u'good', u'approxim', u'note', u'take', u'term', u'taylor', u'expans', u'co', u'would', u'simpli', u'yield', u'even', u'better', u'approxim', u'integr', u'fraction', u'cosin', u'greater_than', u'cdot']\n",
      "[u'professor', u'never', u'finish', u'hi', u'class', u'time', u'time', u'delay', u'given', u'probabl', u'densiti', u'function', u'use', u'fact', u'strong', u'strong', u'median', u'delay', u'median', u'satisfi', u'use', u'formula', u'given', u'hint', u'know', u'median', u'must', u'satisfi', u'integr', u'thu', u'evalu', u'integr', u'abov', u'solv', u'henc', u'integr', u'square_root', u'fraction', u'tangent', u'arctang', u'pi', u'greater_than']\n",
      "[u'bacteria', u'divid', u'along', u'prefer', u'axi', u'therefor', u'form', u'chain', u'divid', u'studi', u'popul', u'blood', u'cultur', u'let', u'length', u'randomli', u'chosen', u'chain', u'distribut', u'describ', u'probabl', u'densiti', u'function', u'probabl', u'find', u'chain', u'length', u'probabl', u'interv', u'term', u'probabl', u'densiti', u'function', u'integr', u'log', u'fraction', u'greater_than']\n",
      "[u'use', u'fact', u'near', u'zero', u'find', u'taylor', u'seri', u'function', u'valid', u'near', u'zero', u'note', u'multipli', u'two', u'correspond', u'taylor', u'seri', u'coeffici', u'front', u'sup', u'sup', u'term', u'start', u'small', u'valu', u'find', u'pattern', u'plug', u'function', u'next', u'start', u'multipli', u'two', u'infinit', u'sum', u'term', u'term', u'sort', u'result', u'power', u'see', u'pattern', u'alway', u'combin', u'give', u'term', u'sub', u'sub', u'henc', u'taylor', u'seri', u'given', u'sum', u'infin', u'fraction', u'greater_than', u'cdot', u'infimum']\n",
      "[u'seed', u'dispers', u'tree', u'direct', u'uniformli', u'densiti', u'seed', u'land', u'ground', u'distanc', u'away', u'approxim', u'describ', u'function', u'distanc', u'tree', u'seed', u'dens', u'distribut', u'seed', u'dens', u'distribut', u'point', u'function', u'describ', u'densiti', u'ha', u'maximum', u'sinc', u'look', u'maximum', u'set', u'deriv', u'zero', u'due', u'restrict', u'onli', u'possibl', u'zero', u'attain', u'note', u'give', u'inde', u'maximum', u'valu', u'sine', u'henc', u'fraction', u'sine', u'cosin', u'pi', u'greater_than']\n",
      "[u'seed', u'dispers', u'tree', u'direct', u'uniformli', u'densiti', u'seed', u'land', u'ground', u'distanc', u'away', u'approxim', u'describ', u'function', u'total', u'number', u'seed', u'ground', u'within', u'radiu', u'tree', u'densiti', u'seed', u'per', u'given', u'search', u'number', u'seed', u'integr', u'must', u'involv', u'calcul', u'total', u'number', u'seed', u'sum', u'around', u'tree', u'time', u'passend', u'concentr', u'seed', u'img', u'class', u'question', u'imag', u'src', u'asset', u'raw', u'databas', u'json', u'data', u'math', u'april', u'math', u'exam', u'resourc', u'cours', u'math', u'april', u'question', u'pictur', u'jpg', u'alt', u'imag', u'becaus', u'area', u'around', u'tree', u'ring', u'field', u'seed', u'look', u'like', u'function', u'rotat', u'around', u'tree', u'axi', u'calcul', u'thi', u'integr', u'use', u'shell', u'method', u'integr', u'use', u'integr', u'part', u'seed', u'around', u'tree', u'integr', u'fraction', u'sine', u'cosin', u'pi', u'greater_than', u'cdot']\n",
      "[u'strong', u'continu', u'probabl', u'strong', u'let', u'random', u'variabl', u'interv', u'probabl', u'densiti', u'function', u'mean', u'given', u'show', u'also', u'comput', u'cumul', u'distribut', u'function', u'cdf', u'approach', u'thi', u'question', u'left', u'hand', u'side', u'right', u'hand', u'side', u'proof', u'problem', u'start', u'definit', u'mean', u'want', u'get', u'start', u'integr', u'techniqu', u'use', u'get', u'start', u'notic', u'antideriv', u'use', u'integr', u'part', u'let', u'sinc', u'probabl', u'distribut', u'onli', u'defin', u'span', u'span', u'cumul', u'probabl', u'satisfi', u'sinc', u'noth', u'happen', u'befor', u'sinc', u'chanc', u'event', u'happen', u'therefor', u'miss', u'second', u'last', u'step', u'could', u'instead', u'simplifi', u'equat', u'see', u'thu', u'two', u'side', u'equal', u'either', u'way', u'thi', u'complet', u'proof', u'integr', u'greater_than']\n",
      "[u'strong', u'light', u'show', u'danc', u'floor', u'strong', u'strong', u'laser', u'mount', u'abov', u'floor', u'see', u'sketch', u'beam', u'direct', u'along', u'straight', u'line', u'danc', u'floor', u'visual', u'effect', u'angl', u'chang', u'period', u'randomli', u'angl', u'chosen', u'uniformli', u'interv', u'probabl', u'densiti', u'function', u'pdf', u'zero', u'elsewher', u'strong', u'img', u'class', u'question', u'imag', u'src', u'asset', u'raw', u'databas', u'json', u'data', u'math', u'april', u'math', u'jpg', u'alt', u'imag', u'find', u'probabl', u'densiti', u'function', u'pdf', u'coordin', u'laser', u'point', u'floor', u'relationship', u'cdf', u'term', u'pdf', u'term', u'take', u'deriv', u'cdf', u'found', u'span', u'part', u'complet', u'question', u'fraction', u'arctang', u'pi', u'greater_than', u'cdot']\n",
      "[u'strong', u'continu', u'probabl', u'strong', u'strong', u'consid', u'convert', u'probabl', u'densiti', u'function', u'pdf', u'interv', u'strong', u'find', u'minim', u'maxim', u'constant', u'function', u'give', u'natur', u'restrict', u'big', u'goe', u'wrong', u'function', u'big', u'firstli', u'notic', u'order', u'denomin', u'well', u'defin', u'requir', u'strictli', u'greater', u'sinc', u'denomin', u'fraction', u'cannot', u'thi', u'give', u'us', u'ha', u'valu', u'maxim', u'minim', u'notic', u'denomin', u'alway', u'posit', u'less', u'give', u'restrict', u'howev', u'numer', u'ha', u'posit', u'order', u'pdf', u'requir', u'greater', u'lastli', u'area', u'condit', u'pdf', u'show', u'us', u'let', u'substitut', u'give', u'isol', u'give', u'us', u'integr', u'limit', u'square_root', u'fraction', u'greater_than']\n",
      "[u'let', u'determin', u'note', u'sum', u'refer', u'seri', u'expans', u'centr', u'work', u'must', u'shown', u'full', u'mark', u'simplifi', u'fulli', u'use', u'result', u'part', u'part', u'replac', u'integr', u'term', u'term', u'yield', u'sinc', u'onli', u'odd', u'power', u'appear', u'thi', u'seri', u'hand', u'coeffici', u'thi', u'yield', u'integr', u'sum', u'infin', u'exponenti', u'fraction', u'greater_than', u'cdot', u'infimum']\n",
      "[u'vancouv', u'ha', u'best', u'salmon', u'hatcheri', u'salmon', u'farm', u'world', u'probabl', u'young', u'salmon', u'take', u'day', u'swim', u'capilano', u'salmon', u'hatcher', u'pacif', u'ocean', u'given', u'probabl', u'densiti', u'function', u'span', u'assum', u'take', u'least', u'day', u'salmon', u'reach', u'ocean', u'span', u'find', u'probabl', u'young', u'salmon', u'take', u'day', u'swim', u'hatcheri', u'ocean', u'work', u'must', u'shown', u'full', u'mark', u'simplifi', u'fulli', u'probabl', u'take', u'day', u'probabl', u'take', u'day', u'thi', u'probabl', u'given', u'integr', u'limit', u'infin', u'exponenti', u'greater_than', u'infimum']\n",
      "[u'determin', u'note', u'sum', u'refer', u'seri', u'expans', u'centr', u'work', u'must', u'shown', u'full', u'mark', u'simplifi', u'fulli', u'thi', u'taylor', u'seri', u'problem', u'recal', u'note', u'forgotten', u'seri', u'expans', u'recal', u'gener', u'expans', u'ha', u'form', u'follow', u'thu', u'get', u'abov', u'replac', u'abov', u'expans', u'yield', u'sinc', u'onli', u'even', u'power', u'appear', u'thi', u'seri', u'whenev', u'odd', u'particular', u'hand', u'coeffici', u'thi', u'yield', u'sum', u'infin', u'exponenti', u'fraction', u'greater_than', u'infimum']\n",
      "[u'probabl', u'newli', u'divid', u'cell', u'divid', u'strong', u'befor', u'strong', u'hour', u'given', u'probabl', u'cell', u'divid', u'hour', u'leav', u'answer', u'term', u'probabl', u'densiti', u'function', u'continu', u'random', u'variabl', u'probabl', u'event', u'happen', u'given', u'let', u'continu', u'random', u'variabl', u'denot', u'wait', u'time', u'sinc', u'use', u'fundament', u'theorem', u'calculu', u'find', u'probabl', u'cell', u'divid', u'hour', u'integr', u'exponenti', u'greater_than']\n",
      "[u'toxic', u'chemic', u'ha', u'spill', u'somewher', u'km', u'stretch', u'highway', u'probabl', u'spill', u'occur', u'within', u'km', u'factori', u'shown', u'panel', u'img', u'class', u'question', u'imag', u'src', u'asset', u'raw', u'databas', u'json', u'data', u'math', u'april', u'math', u'exam', u'resourc', u'cours', u'math', u'april', u'question', u'pictur', u'top', u'png', u'alt', u'imag', u'plot', u'probabl', u'densiti', u'locat', u'spill', u'grid', u'provid', u'need', u'provid', u'scale', u'axi', u'dl', u'dd', u'img', u'class', u'question', u'imag', u'src', u'asset', u'raw', u'databas', u'json', u'data', u'math', u'april', u'math', u'exam', u'resourc', u'cours', u'math', u'april', u'question', u'pictur', u'bottom', u'png', u'alt', u'imag', u'dd', u'dl', u'relat', u'given', u'cumul', u'function', u'probabl', u'densiti', u'function', u'deriv', u'zero', u'whenev', u'flat', u'posit', u'whenev', u'increas', u'dl', u'dd', u'img', u'class', u'question', u'imag', u'src', u'asset', u'raw', u'databas', u'json', u'data', u'math', u'april', u'math', u'exam', u'resourc', u'cours', u'math', u'april', u'question', u'solut', u'png', u'alt', u'imag', u'dd', u'dl', u'greater_than']\n",
      "[u'probabl', u'newli', u'divid', u'cell', u'divid', u'strong', u'befor', u'strong', u'hour', u'given', u'median', u'divis', u'time', u'direct', u'relat', u'median', u'cumul', u'function', u'median', u'defin', u'sinc', u'given', u'easili', u'calcul', u'cross', u'multipli', u'get', u'take', u'logarithm', u'side', u'yield', u'final', u'answer', u'exponenti', u'log', u'fraction', u'greater_than']\n",
      "[u'thi', u'problem', u'ask', u'find', u'valu', u'integr', u'two', u'differ', u'way', u'use', u'taylor', u'seri', u'function', u'write', u'taylor', u'seri', u'approxim', u'find', u'approxim', u'integr', u'use', u'seri', u'leav', u'answer', u'term', u'three', u'fraction', u'need', u'comput', u'simplifi', u'fraction', u'decim', u'approxim', u'factori', u'valu', u'may', u'use', u'taylor', u'seri', u'expans', u'cosin', u'via', u'hint', u'multipli', u'give', u'integr', u'give', u'take', u'account', u'end', u'point', u'simplifi', u'use', u'onli', u'first', u'three', u'term', u'complet', u'question', u'integr', u'sum', u'infin', u'fraction', u'cosin', u'greater_than', u'infimum']\n",
      "[u'toxic', u'chemic', u'ha', u'spill', u'somewher', u'km', u'stretch', u'highway', u'probabl', u'spill', u'occur', u'within', u'km', u'factori', u'shown', u'panel', u'img', u'class', u'question', u'imag', u'src', u'asset', u'raw', u'databas', u'json', u'data', u'math', u'april', u'math', u'exam', u'resourc', u'cours', u'math', u'april', u'question', u'pictur', u'top', u'png', u'alt', u'imag', u'probabl', u'locat', u'spill', u'probabl', u'locat', u'probabl', u'densiti', u'function', u'ha', u'highest', u'valu', u'spill', u'like', u'occur', u'around', u'km', u'km', u'margin', u'thi', u'cumul', u'probabl', u'chang', u'mean', u'thi', u'probabl', u'densiti', u'function', u'ha', u'maxim', u'valu', u'greater_than']\n",
      "[u'express', u'first', u'three', u'term', u'taylor', u'seri', u'recal', u'taylor', u'seri', u'expans', u'follow', u'hint', u'plug', u'argument', u'function', u'calcul', u'henc', u'correct', u'answer', u'exponenti', u'fraction', u'sine', u'cosin', u'greater_than', u'cdot']\n",
      "[u'taylor', u'seri', u'function', u'around', u'use', u'thi', u'fact', u'find', u'taylor', u'seri', u'around', u'notic', u'deriv', u'notic', u'deriv', u'take', u'integr', u'taylor', u'seri', u'find', u'taylor', u'seri', u'look', u'pattern', u'term', u'see', u'integr', u'sum', u'infin', u'fraction', u'arctang', u'greater_than', u'infimum']\n",
      "[u'consid', u'cumul', u'distribut', u'function', u'shown', u'img', u'class', u'question', u'imag', u'src', u'asset', u'raw', u'databas', u'json', u'data', u'math', u'april', u'math', u'april', u'jpg', u'alt', u'imag', u'sketch', u'probabl', u'densiti', u'function', u'content', u'found', u'content', u'found', u'greater_than']\n",
      "[u'write', u'first', u'five', u'term', u'taylor', u'seri', u'expans', u'function', u'note', u'rememb', u'thi', u'seri', u'ask', u'strong', u'deriv', u'strong', u'content', u'found', u'content', u'found', u'exponenti', u'greater_than']\n",
      "[u'ct', u'scanner', u'hospit', u'switch', u'everi', u'morn', u'switch', u'night', u'scanner', u'ha', u'probabl', u'failur', u'technician', u'turn', u'morn', u'assum', u'turn', u'fail', u'later', u'day', u'treat', u'thi', u'strong', u'discret', u'strong', u'event', u'also', u'assum', u'failur', u'independ', u'age', u'histori', u'machin', u'use', u'properti', u'infinit', u'geometr', u'seri', u'obtain', u'summat', u'formula', u'given', u'span', u'part', u'content', u'found', u'content', u'found', u'sum', u'infin', u'fraction', u'greater_than', u'infimum']\n",
      "[u'use', u'strong', u'first', u'three', u'term', u'strong', u'seri', u'span', u'part', u'find', u'numer', u'approxim', u'integr', u'shown', u'leav', u'answer', u'term', u'fraction', u'rather', u'decim', u'content', u'found', u'content', u'found', u'integr', u'exponenti', u'greater_than']\n",
      "[u'figur', u'span', u'part', u'indic', u'probabl', u'valu', u'interv', u'content', u'found', u'content', u'found', u'greater_than']\n",
      "[u'use', u'strong', u'first', u'three', u'term', u'strong', u'seri', u'found', u'span', u'part', u'find', u'numer', u'estim', u'constant', u'base', u'natur', u'logarithm', u'content', u'found', u'content', u'found', u'greater_than']\n",
      "[u'figur', u'span', u'part', u'indic', u'strong', u'median', u'strong', u'thi', u'distribut', u'content', u'found', u'content', u'found', u'greater_than']\n",
      "[u'consid', u'curv', u'assum', u'point', u'lie', u'curv', u'nearbi', u'point', u'curv', u'satisfi', u'function', u'find', u'find', u'note', u'curv', u'pass', u'point', u'explan', u'given', u'curv', u'pass', u'point', u'near', u'thi', u'point', u'curv', u'graph', u'function', u'thing', u'evalu', u'point', u'order', u'find', u'thi', u'use', u'implicit', u'differenti', u'equat', u'respect', u'order', u'solv', u'first', u'factor', u'subtract', u'side', u'divid', u'obtain', u'henc', u'fraction', u'greater_than']\n",
      "[u'consid', u'curv', u'assum', u'point', u'lie', u'curv', u'nearbi', u'point', u'curv', u'satisfi', u'function', u'approxim', u'use', u'linear', u'approxim', u'state', u'whether', u'expect', u'thi', u'overestim', u'underestim', u'formula', u'linear', u'approxim', u'function', u'valu', u'valu', u'linear', u'approxim', u'formula', u'number', u'valu', u'approxim', u'around', u'thu', u'case', u'sinc', u'tri', u'approxim', u'take', u'use', u'inform', u'span', u'part', u'thi', u'give', u'estim', u'span', u'part', u'second', u'deriv', u'neg', u'therefor', u'see', u'function', u'concav', u'thi', u'point', u'thi', u'tell', u'us', u'point', u'near', u'smaller', u'tangent', u'line', u'predict', u'therefor', u'expect', u'estim', u'overestim', u'greater_than']\n",
      "[u'find', u'second', u'order', u'taylor', u'polynomi', u'recal', u'review', u'definit', u'nd', u'order', u'taylor', u'polynomi', u'function', u'point', u'text', u'thi', u'case', u'function', u'problem', u'evalu', u'deriv', u'get', u'thu', u'nd', u'order', u'taylor', u'polynomi', u'fraction', u'arctang', u'pi', u'greater_than']\n",
      "[u'quadrat', u'approxim', u'demand', u'function', u'calculu', u'price', u'elast', u'demand', u'recal', u'formula', u'price', u'elast', u'demand', u'use', u'hint', u'valu', u'read', u'given', u'degre', u'taylor', u'polynomi', u'expans', u'similarli', u'fraction', u'greater_than', u'cdot', u'epsilon']\n",
      "[u'let', u'consid', u'th', u'order', u'taylor', u'polynomi', u'recal', u'review', u'definit', u'th', u'order', u'taylor', u'polynomi', u'function', u'point', u'text', u'let', u'chang', u'notat', u'scare', u'thi', u'case', u'proceed', u'hint', u'comput', u'th', u'deriv', u'use', u'second', u'hint', u'see', u'complet', u'problem', u'exponenti', u'fraction', u'greater_than']\n",
      "[u'consid', u'curv', u'assum', u'point', u'lie', u'curv', u'nearbi', u'point', u'curv', u'satisfi', u'function', u'write', u'quadrat', u'approxim', u'sketch', u'graph', u'grid', u'quadrat', u'approxim', u'given', u'second', u'degre', u'taylor', u'polynomi', u'given', u'comput', u'thi', u'graph', u'plug', u'valu', u'span', u'part', u'span', u'part', u'second', u'degre', u'taylor', u'polynomi', u'recal', u'valu', u'give', u'graph', u'given', u'img', u'class', u'question', u'imag', u'src', u'asset', u'raw', u'databas', u'json', u'data', u'math', u'decemb', u'dec', u'jpg', u'alt', u'imag', u'greater_than']\n",
      "[u'thi', u'problem', u'approxim', u'two', u'way', u'one', u'use', u'linear', u'approxim', u'use', u'quadrat', u'approxim', u'may', u'find', u'use', u'draw', u'graph', u'near', u'help', u'answer', u'part', u'thi', u'question', u'compar', u'error', u'bound', u'linear', u'approxim', u'found', u'part', u'magnitud', u'nd', u'degre', u'term', u'quadrat', u'approxim', u'expect', u'larger', u'whi', u'nd', u'degre', u'term', u'quadrat', u'approxim', u'doe', u'compar', u'error', u'defin', u'part', u'key', u'differ', u'expect', u'error', u'term', u'larger', u'equal', u'magnitud', u'second', u'order', u'term', u'quadrat', u'approxim', u'reason', u'thi', u'becaus', u'two', u'term', u'similar', u'form', u'error', u'term', u'replac', u'term', u'quadrat', u'correct', u'maximum', u'valu', u'interv', u'inde', u'error', u'term', u'wa', u'greater', u'magnitud', u'quadrat', u'correct', u'term', u'quadrat', u'approxim', u'gt', u'log', u'greater_than']\n",
      "[u'thi', u'problem', u'approxim', u'two', u'way', u'one', u'use', u'linear', u'approxim', u'use', u'quadrat', u'approxim', u'may', u'find', u'use', u'draw', u'graph', u'near', u'help', u'answer', u'part', u'thi', u'question', u'use', u'quadrat', u'approxim', u'second', u'degre', u'taylor', u'polynomi', u'centr', u'approxim', u'formula', u'taylor', u'polynomi', u'degre', u'valu', u'begin', u'definit', u'quadrat', u'approxim', u'function', u'point', u'find', u'quadrat', u'approxim', u'given', u'thu', u'quadrat', u'approxim', u'log', u'fraction', u'greater_than']\n",
      "[u'let', u'third', u'degre', u'taylor', u'polynomi', u'function', u'determin', u'valu', u'recal', u'th', u'coeffici', u'taylor', u'polynomi', u'given', u'gener', u'nth', u'degre', u'taylor', u'polynomi', u'centr', u'coeffici', u'sinc', u'center', u'exponenti', u'fraction', u'greater_than']\n",
      "[u'strong', u'full', u'solut', u'problem', u'justifi', u'answer', u'show', u'work', u'full', u'simplif', u'numer', u'answer', u'requir', u'unless', u'explicitli', u'state', u'otherwis', u'strong', u'use', u'lagrang', u'remaind', u'formula', u'prove', u'use', u'maclaurin', u'polynomi', u'obtain', u'span', u'part', u'strong', u'lagrang', u'remaind', u'formula', u'strong', u'calcul', u'error', u'appli', u'lagrang', u'remaind', u'formula', u'first', u'need', u'find', u'sinc', u'even', u'function', u'choos', u'posit', u'root', u'without', u'loss', u'gener', u'taylor', u'remaind', u'theorem', u'appli', u'maclaurin', u'polynomi', u'denot', u'minimum', u'maximum', u'valu', u'interv', u'respect', u'sinc', u'know', u'span', u'part', u'simpli', u'consid', u'calcul', u'upper', u'lower', u'bound', u'error', u'substitut', u'lagrang', u'remaind', u'formula', u'interv', u'find', u'error', u'bound', u'maxim', u'thi', u'function', u'function', u'observ', u'monoton', u'decreas', u'interv', u'denomin', u'increas', u'numer', u'decreas', u'note', u'minu', u'sign', u'overal', u'decreas', u'henc', u'minimum', u'maximum', u'valu', u'error', u'attain', u'respect', u'plug', u'thi', u'obtain', u'requir', u'lower', u'upper', u'bound', u'error', u'log', u'fraction', u'greater_than', u'cdot']\n",
      "[u'strong', u'short', u'answer', u'question', u'simplifi', u'answer', u'much', u'possibl', u'show', u'work', u'strong', u'let', u'nd', u'degre', u'taylor', u'polynomi', u'centr', u'recal', u'th', u'degre', u'strong', u'taylor', u'polynomi', u'strong', u'centr', u'function', u'given', u'coeffici', u'definit', u'taylor', u'polynomi', u'comput', u'valu', u'deriv', u'find', u'therefor', u'sum', u'fraction', u'greater_than']\n",
      "[u'strong', u'full', u'solut', u'problem', u'justifi', u'answer', u'show', u'work', u'full', u'simplif', u'numer', u'answer', u'requir', u'unless', u'explicitli', u'state', u'otherwis', u'strong', u'find', u'first', u'maclaurin', u'polynomi', u'strong', u'maclaurin', u'polynomi', u'strong', u'taylor', u'polynomi', u'centr', u'equat', u'strong', u'maclaurin', u'polynomi', u'strong', u'find', u'differenti', u'use', u'chain', u'rule', u'thu', u'first', u'degre', u'maclaurin', u'polynomi', u'log', u'fraction', u'greater_than', u'cdot']\n",
      "[u'strong', u'full', u'solut', u'problem', u'strong', u'question', u'justifi', u'answer', u'strong', u'show', u'work', u'strong', u'box', u'provid', u'write', u'final', u'answer', u'strong', u'unless', u'otherwis', u'indic', u'simplif', u'numer', u'answer', u'requir', u'question', u'strong', u'give', u'complet', u'proof', u'satisfi', u'hint', u'question', u'taylor', u'polynomi', u'ha', u'yet', u'appear', u'thi', u'exam', u'hint', u'given', u'question', u'good', u'start', u'find', u'largest', u'function', u'minu', u'taylor', u'polynomi', u'centr', u'valu', u'match', u'middl', u'term', u'sup', u'sup', u'use', u'taylor', u'remaind', u'formula', u'given', u'valu', u'interv', u'sup', u'sup', u'st', u'deriv', u'follow', u'hint', u'calcul', u'taylor', u'polynomi', u'degre', u'four', u'see', u'sub', u'sub', u'sub', u'sub', u'sup', u'sup', u'inde', u'match', u'middl', u'term', u'question', u'statement', u'henc', u'use', u'taylor', u'remaind', u'formula', u'either', u'choos', u'becaus', u'thi', u'give', u'us', u'smaller', u'error', u'term', u'divid', u'error', u'instead', u'interv', u'valu', u'unknown', u'valu', u'draw', u'pictur', u'help', u'confirm', u'comput', u'cosin', u'function', u'alway', u'posit', u'thi', u'interv', u'also', u'conclud', u'requir', u'fraction', u'cosin', u'pi', u'greater_than']\n",
      "[u'let', u'second', u'degre', u'taylor', u'polynomi', u'larger', u'pleas', u'justifi', u'answer', u'say', u'error', u'taylor', u'polynomi', u'actual', u'function', u'error', u'also', u'call', u'remain', u'lagrang', u'remaind', u'formula', u'state', u'number', u'posit', u'underestim', u'neg', u'overestim', u'thi', u'problem', u'sinc', u'posit', u'conclud', u'also', u'posit', u'sinc', u'factori', u'posit', u'well', u'thi', u'mean', u'square_root', u'fraction', u'greater_than']\n",
      "[u'let', u'sub', u'sub', u'second', u'degre', u'taylor', u'polynomi', u'find', u'sub', u'sub', u'simplifi', u'answer', u'recal', u'gener', u'forumla', u'second', u'degre', u'taylor', u'polynomi', u'gener', u'forumla', u'second', u'degre', u'taylor', u'polynomi', u'find', u'thi', u'need', u'first', u'find', u'evalu', u'get', u'plug', u'equat', u'second', u'taylor', u'polynomi', u'obtain', u'thi', u'simplifi', u'enough', u'purpos', u'taylor', u'polynomi', u'square_root', u'fraction', u'greater_than', u'cdot']\n",
      "[u'find', u'second', u'degre', u'taylor', u'polynomi', u'sub', u'sub', u'recal', u'gener', u'equat', u'second', u'degre', u'taylor', u'polynomi', u'given', u'find', u'second', u'degre', u'taylor', u'polynomi', u'use', u'equat', u'know', u'easili', u'comput', u'deriv', u'get', u'plug', u'thi', u'taylor', u'equat', u'get', u'square_root', u'fraction', u'greater_than']\n",
      "[u'full', u'solut', u'problem', u'question', u'justifi', u'answer', u'show', u'work', u'box', u'provid', u'write', u'final', u'answer', u'simplif', u'answer', u'requir', u'unless', u'explicitli', u'request', u'determin', u'care', u'justifi', u'upper', u'bound', u'absolut', u'valu', u'error', u'would', u'result', u'second', u'degre', u'maclaurin', u'polynomi', u'wa', u'use', u'estim', u'upper', u'bound', u'may', u'left', u'unsimplifi', u'calcul', u'readi', u'must', u'specif', u'numer', u'valu', u'note', u'requir', u'find', u'credit', u'given', u'find', u'want', u'know', u'valu', u'least', u'upper', u'bound', u'taylor', u'remaind', u'formula', u'say', u'upper', u'bound', u'absolut', u'valu', u'third', u'deriv', u'taylor', u'remaind', u'formula', u'say', u'upper', u'bound', u'absolut', u'valu', u'third', u'deriv', u'interv', u'comput', u'third', u'deriv', u'via', u'product', u'rule', u'give', u'notic', u'increas', u'thu', u'obtain', u'maximum', u'function', u'parabola', u'root', u'henc', u'minimum', u'occur', u'midpoint', u'root', u'name', u'sinc', u'valu', u'endpoint', u'zero', u'minimum', u'valu', u'parabola', u'maxim', u'absolut', u'valu', u'thu', u'sinc', u'want', u'bound', u'absolut', u'valu', u'third', u'deriv', u'know', u'henc', u'requir', u'exponenti', u'fraction', u'greater_than', u'cdot']\n",
      "[u'consid', u'random', u'walk', u'ha', u'transit', u'matrix', u'find', u'eigenvalu', u'transit', u'matrix', u'need', u'calcul', u'eigenvector', u'thi', u'stage', u'alway', u'ha', u'eigenvalu', u'matrix', u'zero', u'characterist', u'polynomi', u'eigenvalu', u'satisfi', u'perform', u'calcul', u'determin', u'use', u'co', u'factor', u'method', u'give', u'solv', u'give', u'eigenvalu', u'matrix', u'greater_than']\n",
      "[u'consid', u'matrix', u'eigenvalu', u'find', u'eigenvector', u'recal', u'solv', u'eigenvector', u'must', u'solv', u'eigenvalu', u'refer', u'previou', u'part', u'eigenvalu', u'comput', u'eigenvalu', u'thi', u'see', u'vector', u'eigenvector', u'eigenvalu', u'thi', u'see', u'vector', u'eigenvector', u'matrix', u'greater_than']\n",
      "[u'consid', u'matrix', u'use', u'inform', u'item', u'write', u'invert', u'matrix', u'diagon', u'matrix', u'column', u'correspond', u'eigenvector', u'valu', u'eigenvalu', u'order', u'eigenvector', u'matrix', u'matrix', u'made', u'eigenvector', u'matrix', u'diagon', u'matrix', u'eigenvalu', u'list', u'order', u'list', u'eigenvector', u'therefor', u'also', u'comput', u'recal', u'matrix', u'sinc', u'det', u'multipli', u'everyth', u'togeth', u'get', u'expect', u'matrix', u'fraction', u'greater_than', u'determin']\n",
      "[u'consid', u'matrix', u'find', u'eigenvalu', u'two', u'distinct', u'eigenvalu', u'eigenvalu', u'satisfi', u'equat', u'ident', u'matrix', u'dimens', u'determin', u'eigenvalu', u'solv', u'characterist', u'polynomi', u'thu', u'eigenvalu', u'matrix', u'array', u'greater_than', u'determin']\n",
      "[u'let', u'matrix', u'linear', u'transform', u'suppos', u'know', u'eigenvector', u'associ', u'eigenvalu', u'respect', u'find', u'matrix', u'use', u'basi', u'vector', u'build', u'transform', u'matrix', u'ani', u'matrix', u'basi', u'vector', u'comput', u'obtain', u'column', u'linear', u'transform', u'matrix', u'comput', u'give', u'us', u'three', u'column', u'henc', u'll', u'know', u'matrix', u'span', u'part', u'alreadi', u'determin', u'transform', u'vector', u'thi', u'first', u'column', u'get', u'relat', u'use', u'work', u'span', u'part', u'obtain', u'basi', u'vector', u'term', u'eigenvector', u'use', u'eigenvalu', u'eigenvector', u'relationship', u'thi', u'second', u'column', u'final', u'span', u'part', u'give', u'us', u'third', u'column', u'therefor', u'linear', u'transform', u'matrix', u'matrix', u'greater_than']\n",
      "[u'construct', u'matrix', u'eigenvector', u'one', u'first', u'matric', u'learn', u'tri', u'one', u'ident', u'matrix', u'ha', u'everi', u'non', u'zero', u'vector', u'eigenvector', u'doe', u'zero', u'matrix', u'matrix', u'greater_than']\n",
      "[u'given', u'follow', u'transit', u'matrix', u'random', u'walk', u'find', u'comput', u'th', u'power', u'gener', u'matrix', u'hand', u'possibl', u'avoid', u'cost', u'howev', u'matric', u'easi', u'comput', u'power', u'quickli', u'transform', u'begin', u'comput', u'eigenvalu', u'thu', u'root', u'henc', u'eigenvalu', u'comput', u'eigenvector', u'look', u'nullspac', u'eigenvalu', u'vector', u'henc', u'eigenvector', u'kernel', u'thi', u'matrix', u'given', u'similarli', u'vector', u'henc', u'eigenvector', u'kernel', u'thi', u'matrix', u'given', u'adjoin', u'eigenvector', u'make', u'matrix', u'theori', u'diagonaliz', u'give', u'us', u'diagon', u'matrix', u'consist', u'eigenvalu', u'next', u'notic', u'final', u'work', u'pay', u'take', u'th', u'power', u'diagon', u'matrix', u'easi', u'conveni', u'invert', u'matrix', u'small', u'price', u'pay', u'thi', u'conveni', u'appli', u'vector', u'thi', u'matrix', u'give', u'thi', u'complet', u'problem', u'matrix', u'fraction', u'greater_than', u'determin']\n",
      "[u'eigenvalu', u'eigenvector', u'matrix', u'eigenvalu', u'root', u'characterist', u'polynomi', u'given', u'eigenvector', u'observ', u'happen', u'take', u'vector', u'multipli', u'matrix', u'notic', u'root', u'thi', u'polynomi', u'thi', u'tripl', u'root', u'thi', u'onli', u'eigenvalu', u'next', u'ani', u'vector', u'henc', u'everi', u'strong', u'nonzero', u'strong', u'vector', u'eigenvector', u'matrix', u'greater_than', u'determin']\n",
      "[u'let', u'matrix', u'given', u'known', u'eigenvalu', u'find', u'eigenvector', u'associ', u'eigenvalu', u'calcul', u'eigenvector', u'eigenvalu', u'find', u'solut', u'proceed', u'usual', u'look', u'non', u'zero', u'solut', u'free', u'variabl', u'system', u'two', u'equat', u'two', u'unknown', u'simplest', u'onli', u'solut', u'thi', u'smaller', u'system', u'henc', u'ani', u'vector', u'form', u'eigenvector', u'eigenvalu', u'matrix', u'greater_than']\n",
      "[u'given', u'follow', u'transit', u'matrix', u'random', u'walk', u'find', u'thi', u'gener', u'span', u'part', u'chang', u'everywher', u'span', u'part', u'span', u'part', u'deduc', u'use', u'diagon', u'matrix', u'appli', u'vector', u'thi', u'matrix', u'give', u'take', u'limit', u'tend', u'infin', u'give', u'thi', u'complet', u'problem', u'limit', u'infin', u'matrix', u'fraction', u'greater_than', u'infimum']\n",
      "[u'assum', u'matrix', u'wa', u'obtain', u'appli', u'sequenc', u'elementari', u'row', u'oper', u'matrix', u'circl', u'strong', u'strong', u'correct', u'statement', u'true', u'independ', u'given', u'strong', u'strong', u'strong', u'strong', u'invert', u'also', u'invert', u'eigenvector', u'also', u'eigenvector', u'eigenvalu', u'also', u'eigenvalu', u'elementari', u'row', u'oper', u'ul', u'li', u'row', u'switch', u'li', u'li', u'row', u'multipl', u'non', u'zero', u'constant', u'li', u'li', u'row', u'addit', u'li', u'ul', u'ani', u'chang', u'valu', u'determin', u'onli', u'correct', u'statement', u'independ', u'recal', u'scale', u'row', u'elementari', u'row', u'oper', u'scale', u'determin', u'factor', u'determin', u'non', u'zero', u'fail', u'hold', u'elementari', u'row', u'oper', u'repres', u'invert', u'matric', u'sinc', u'product', u'matric', u'invert', u'altern', u'recal', u'elementari', u'row', u'oper', u'onli', u'scale', u'determin', u'matrix', u'non', u'zero', u'factor', u'thu', u'non', u'zero', u'invert', u'non', u'zero', u'invert', u'well', u'thi', u'fals', u'elementari', u'row', u'oper', u'chang', u'eigenvector', u'simpl', u'exampl', u'let', u'subtract', u'first', u'row', u'second', u'row', u'reduc', u'howev', u'eigenvector', u'multipl', u'henc', u'eigenvector', u'eigenvalu', u'invert', u'determin', u'elementari', u'row', u'oper', u'onli', u'scale', u'determin', u'constant', u'non', u'zero', u'factor', u'therefor', u'henc', u'invert', u'henc', u'also', u'eigenvalu', u'altern', u'appli', u'elementari', u'row', u'oper', u'repres', u'multipl', u'origin', u'matrix', u'elementari', u'matrix', u'invert', u'suppos', u'eigenvalu', u'well', u'thi', u'case', u'also', u'eigenvector', u'thi', u'special', u'eigenvalu', u'matrix', u'greater_than', u'determin']\n",
      "[u'let', u'line', u'find', u'eigenvector', u'matrix', u'associ', u'eigenvalu', u'wa', u'comput', u'part', u'span', u'repres', u'reflect', u'across', u'line', u'rememb', u'eigenvector', u'correspond', u'particular', u'eigenvalu', u'matrix', u'satisfi', u'ident', u'matrix', u'statement', u'problem', u'know', u'eigenvalu', u'matrix', u'correspond', u'eigenvector', u'satisfi', u'follow', u'equat', u'ident', u'matrix', u'solv', u'give', u'ani', u'non', u'zero', u'constant', u'multipl', u'also', u'accept', u'answer', u'matrix', u'fraction', u'greater_than']\n",
      "[u'find', u'eigenvalu', u'matrix', u'eigenvalu', u'root', u'characterist', u'polynomi', u'given', u'proceed', u'hint', u'eigenvalu', u'given', u'matrix', u'greater_than', u'determin']\n"
     ]
    }
   ],
   "source": [
    "X_train = questions_to_X(questions_train, vocabulary_sorted)\n",
    "X_test = questions_to_X(questions_test, vocabulary_sorted)"
   ]
  },
  {
   "cell_type": "code",
   "execution_count": 49,
   "metadata": {
    "collapsed": false
   },
   "outputs": [],
   "source": [
    "assert len(topic_labels) == len(questions_train)"
   ]
  },
  {
   "cell_type": "code",
   "execution_count": 62,
   "metadata": {
    "collapsed": false
   },
   "outputs": [],
   "source": [
    "y_train = questions_to_y(questions_train)\n",
    "y_test = questions_to_y(questions_test)"
   ]
  },
  {
   "cell_type": "code",
   "execution_count": 53,
   "metadata": {
    "collapsed": true
   },
   "outputs": [],
   "source": [
    "from sklearn.multiclass import OneVsRestClassifier\n",
    "from sklearn import svm"
   ]
  },
  {
   "cell_type": "code",
   "execution_count": 55,
   "metadata": {
    "collapsed": false
   },
   "outputs": [],
   "source": [
    "classifier = OneVsRestClassifier(svm.SVC(kernel='linear', probability = True, random_state=np.random.RandomState(0)))"
   ]
  },
  {
   "cell_type": "code",
   "execution_count": 63,
   "metadata": {
    "collapsed": true
   },
   "outputs": [],
   "source": [
    "trained_classifier = classifier.fit(X_train, y_train)"
   ]
  },
  {
   "cell_type": "code",
   "execution_count": 66,
   "metadata": {
    "collapsed": false
   },
   "outputs": [],
   "source": [
    "preds = trained_classifier.predict_proba(X_test)"
   ]
  },
  {
   "cell_type": "code",
   "execution_count": 72,
   "metadata": {
    "collapsed": false
   },
   "outputs": [
    {
     "name": "stdout",
     "output_type": "stream",
     "text": [
      "{0: 0.99955436720142599, 1: 0.98026666666666673, 2: 0.98222405952873093, 'micro': 0.97630000000000028}\n"
     ]
    }
   ],
   "source": [
    "from sklearn.metrics import roc_curve, auc\n",
    "\n",
    "fpr = dict()\n",
    "tpr = dict()\n",
    "roc_auc = dict()\n",
    "for i in range(3):\n",
    "    fpr[i], tpr[i], _ = roc_curve(y_test[:, i], preds[:, i])\n",
    "    roc_auc[i] = auc(fpr[i], tpr[i])\n",
    "\n",
    "# Compute micro-average ROC curve and ROC area\n",
    "fpr[\"micro\"], tpr[\"micro\"], _ = roc_curve(y_test.ravel(), preds.ravel())\n",
    "roc_auc[\"micro\"] = auc(fpr[\"micro\"], tpr[\"micro\"])\n",
    "\n",
    "print(roc_auc)"
   ]
  },
  {
   "cell_type": "code",
   "execution_count": null,
   "metadata": {
    "collapsed": true
   },
   "outputs": [],
   "source": []
  }
 ],
 "metadata": {
  "kernelspec": {
   "display_name": "Python 2",
   "language": "python",
   "name": "python2"
  },
  "language_info": {
   "codemirror_mode": {
    "name": "ipython",
    "version": 2
   },
   "file_extension": ".py",
   "mimetype": "text/x-python",
   "name": "python",
   "nbconvert_exporter": "python",
   "pygments_lexer": "ipython2",
   "version": "2.7.9"
  }
 },
 "nbformat": 4,
 "nbformat_minor": 0
}
