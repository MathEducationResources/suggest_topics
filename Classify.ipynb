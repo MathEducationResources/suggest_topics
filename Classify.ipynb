{
 "cells": [
  {
   "cell_type": "markdown",
   "metadata": {},
   "source": [
    "# Predict the topic of a Math Question on Math Education Resources"
   ]
  },
  {
   "cell_type": "markdown",
   "metadata": {},
   "source": [
    "We will use **Machine Learning** to predict the topic of a Math Question from the [Math Education Resources](http://math-education-resources.com). For simplicity we will only consider two topics. Using [multiclass classification](https://en.wikipedia.org/wiki/Multiclass_classification) this can be extended to more than two topics (at the time of writing, April 2015, we have about 1500 questions with 150 topics on MER)."
   ]
  },
  {
   "cell_type": "markdown",
   "metadata": {},
   "source": [
    "## Data inspection"
   ]
  },
  {
   "cell_type": "code",
   "execution_count": 2,
   "metadata": {
    "collapsed": true
   },
   "outputs": [],
   "source": [
    "import os\n",
    "import json\n",
    "import numpy as np\n",
    "from pymongo import MongoClient"
   ]
  },
  {
   "cell_type": "code",
   "execution_count": 3,
   "metadata": {
    "collapsed": true
   },
   "outputs": [],
   "source": [
    "client = MongoClient()"
   ]
  },
  {
   "cell_type": "code",
   "execution_count": 21,
   "metadata": {
    "collapsed": true
   },
   "outputs": [],
   "source": [
    "questions_collection = client['merdb'].questions"
   ]
  },
  {
   "cell_type": "code",
   "execution_count": 22,
   "metadata": {
    "collapsed": true
   },
   "outputs": [
    {
     "data": {
      "text/plain": [
       "{u'ID': u'UBC+MATH307+April_2012+01_(d)',\n",
       " u'_id': ObjectId('554c104798cccfa52bc9ba95'),\n",
       " u'answer_html': u'<p>No content found.</p>\\n',\n",
       " u'answer_latex': u'No content found.',\n",
       " u'contributors': [u'Konradbe'],\n",
       " u'course': u'MATH307',\n",
       " u'flags': [u'RQ', u'CH', u'CS', u'CT'],\n",
       " u'hints_html': [u'<p>No content found.</p>\\n'],\n",
       " u'hints_latex': [u'No content found.'],\n",
       " u'hints_raw': [u'No content found.'],\n",
       " u'num_votes': 0,\n",
       " u'question': u'1 (d)',\n",
       " u'rating': -1,\n",
       " u'sols_html': [u'<p>No content found.</p>\\n'],\n",
       " u'sols_latex': [u'No content found.'],\n",
       " u'sols_raw': [u'No content found.'],\n",
       " u'statement_html': u'<p>Suppose you are given a set of <em>N</em> data points <em>(x<sub>n</sub>, y<sub>n</sub>)</em>, with <em>x<sub>n</sub></em> increasing, and you wish to interpolate these points with a spline function <em><span class=\"math\">\\\\(f\\\\)</span></em>, where <em><span class=\"math\">\\\\(f\\\\)</span>(x)</em> is given by the cubic polynomial <em>p<sub>n</sub>(x)</em> on each interval <em>(x<sub>n</sub>, x<sub>n+1</sub>)</em> for <em>n = 1, ..., N-1</em>:</p>\\n<p><span class=\"math\">\\\\[\\\\begin{aligned}\\n\\\\displaystyle\\np_n(x) = a_n(x-x_n)^3 + b_n(x-x_n)^2 + c_n(x-x_n) + d_n\\\\end{aligned}\\\\]</span></p>\\n<p><strong>(d)</strong> Write down the matrix equation to be solved for the coefficients of the polynomials in the case <em>N = 3</em>, with <em>x<sub>1</sub> = 1</em>, <em>x<sub>2</sub> = 2</em>, <em>x<sub>3</sub> = 3</em>.</p>\\n',\n",
       " u'statement_latex': u'Suppose you are given a set of \\\\emph{N} data points\\n\\\\emph{(x\\\\textsubscript{n}, y\\\\textsubscript{n})}, with\\n\\\\emph{x\\\\textsubscript{n}} increasing, and you wish to interpolate these\\npoints with a spline function \\\\emph{$f$}, where \\\\emph{$f$(x)} is given by\\nthe cubic polynomial \\\\emph{p\\\\textsubscript{n}(x)} on each interval\\n\\\\emph{(x\\\\textsubscript{n}, x\\\\textsubscript{n+1})} for \\\\emph{n = 1, ...,\\nN-1}:\\n\\n\\\\begin{align*}\\n\\\\displaystyle\\np_n(x) = a_n(x-x_n)^3 + b_n(x-x_n)^2 + c_n(x-x_n) + d_n\\n\\\\end{align*}\\n\\n\\\\textbf{(d)} Write down the matrix equation to be solved for the\\ncoefficients of the polynomials in the case \\\\emph{N = 3}, with\\n\\\\emph{x\\\\textsubscript{1} = 1}, \\\\emph{x\\\\textsubscript{2} = 2},\\n\\\\emph{x\\\\textsubscript{3} = 3}.',\n",
       " u'statement_raw': u\"Suppose you are given a set of ''N'' data points ''(x&lt;sub>n&lt;/sub>, y&lt;sub>n&lt;/sub>)'', with ''x&lt;sub>n&lt;/sub>'' increasing, and you wish to interpolate these points with a spline function ''&amp;fnof;'', where ''&amp;fnof;(x)'' is given by the cubic polynomial ''p&lt;sub>n&lt;/sub>(x)'' on each interval ''(x&lt;sub>n&lt;/sub>, x&lt;sub>n+1&lt;/sub>)'' for ''n = 1, ..., N-1'':\\n\\n:&lt;math> \\\\displaystyle\\np_n(x) = a_n(x-x_n)^3 + b_n(x-x_n)^2 + c_n(x-x_n) + d_n\\n&lt;/math>\\n\\n'''(d)''' Write down the matrix equation to be solved for the coefficients of the polynomials in the case ''N = 3'', with ''x&lt;sub>1&lt;/sub> = 1'', ''x&lt;sub>2&lt;/sub> = 2'', ''x&lt;sub>3&lt;/sub> = 3''.\",\n",
       " u'term': u'April',\n",
       " u'url': u'http://wiki.ubc.ca/Science:Math_Exam_Resources/Courses/MATH307/April_2012/Question_01_(d)',\n",
       " u'year': 2012}"
      ]
     },
     "execution_count": 22,
     "metadata": {},
     "output_type": "execute_result"
    }
   ],
   "source": [
    "questions_collection.find_one()"
   ]
  },
  {
   "cell_type": "code",
   "execution_count": 17,
   "metadata": {
    "collapsed": true
   },
   "outputs": [],
   "source": [
    "topic_tags = [\"Eigenvalues_and_eigenvectors\", \"Probability_density_function\", \"Taylor_series\"]"
   ]
  },
  {
   "cell_type": "code",
   "execution_count": 34,
   "metadata": {
    "collapsed": false
   },
   "outputs": [],
   "source": [
    "questions = []\n",
    "for q in questions_collection.find({\"topics\": \n",
    "                                         {\"$in\": topic_tags}\n",
    "                                        }):\n",
    "    questions.append(q)"
   ]
  },
  {
   "cell_type": "code",
   "execution_count": 36,
   "metadata": {
    "collapsed": false
   },
   "outputs": [
    {
     "name": "stdout",
     "output_type": "stream",
     "text": [
      "47\n",
      "40\n",
      "51\n"
     ]
    }
   ],
   "source": [
    "for t in topic_tags:\n",
    "    print(questions_collection.find({\"topics\": t}).count())\n",
    "    "
   ]
  },
  {
   "cell_type": "code",
   "execution_count": 37,
   "metadata": {
    "collapsed": true
   },
   "outputs": [
    {
     "data": {
      "text/plain": [
       "[u'rating',\n",
       " u'contributors',\n",
       " u'topics',\n",
       " u'year',\n",
       " u'answer_html',\n",
       " u'course',\n",
       " u'solvers',\n",
       " u'sols_raw',\n",
       " u'hints_html',\n",
       " u'votes',\n",
       " u'question',\n",
       " u'statement_raw',\n",
       " u'num_votes',\n",
       " u'statement_html',\n",
       " u'term',\n",
       " u'statement_latex',\n",
       " u'hints_raw',\n",
       " u'hints_latex',\n",
       " u'ID',\n",
       " u'sols_latex',\n",
       " u'url',\n",
       " u'flags',\n",
       " u'answer_latex',\n",
       " u'sols_html',\n",
       " u'_id']"
      ]
     },
     "execution_count": 37,
     "metadata": {},
     "output_type": "execute_result"
    }
   ],
   "source": [
    "questions[77].keys()"
   ]
  },
  {
   "cell_type": "code",
   "execution_count": 58,
   "metadata": {
    "collapsed": false
   },
   "outputs": [
    {
     "name": "stdout",
     "output_type": "stream",
     "text": [
      "Eigenvalues_and_eigenvectors questions in test set: 37\n",
      "Probability_density_function questions in test set: 27\n",
      "Taylor_series questions in test set: 39\n"
     ]
    }
   ],
   "source": [
    "np.random.seed(23)  # for reproducibility we set the seed of the random number generator\n",
    "num_samples = int(0.75 * len(questions))\n",
    "test_indices = np.random.choice(range(len(questions)), num_samples, replace=False)\n",
    "questions_train = [q for i, q in enumerate(questions) if not i in test_indices]\n",
    "questions_test = [q for i, q in enumerate(questions) if i in test_indices]\n",
    "print('%s questions in test set: %d' % (topic_tags[0], sum([1 for q in questions_test if topic_tags[0] in q['topics']])))\n",
    "print('%s questions in test set: %d' % (topic_tags[1], sum([1 for q in questions_test if topic_tags[1] in q['topics']])))\n",
    "print('%s questions in test set: %d' % (topic_tags[2], sum([1 for q in questions_test if topic_tags[2] in q['topics']])))"
   ]
  },
  {
   "cell_type": "code",
   "execution_count": 49,
   "metadata": {
    "collapsed": false
   },
   "outputs": [],
   "source": [
    "import helpers\n",
    "from nltk import PorterStemmer\n",
    "from nltk.corpus import stopwords"
   ]
  },
  {
   "cell_type": "code",
   "execution_count": 51,
   "metadata": {
    "collapsed": true
   },
   "outputs": [],
   "source": [
    "def words_from_question(q):\n",
    "    all_text = q['statement_html'] + q['hints_html'][0] + q['sols_html'][0]\n",
    "    return helpers.strip_text(all_text)\n",
    "\n",
    "def words_stemmed_no_stop(words):\n",
    "    stop = stopwords.words('english')\n",
    "    res = []\n",
    "    for word in words:\n",
    "        stemmed = PorterStemmer().stem_word(word)\n",
    "        if stemmed not in stop and len(stemmed) > 1:\n",
    "            res.append(stemmed)\n",
    "    return res"
   ]
  },
  {
   "cell_type": "code",
   "execution_count": 52,
   "metadata": {
    "collapsed": false
   },
   "outputs": [
    {
     "name": "stdout",
     "output_type": "stream",
     "text": [
      "('Number of distinct words:', 435)\n",
      "[u'abl', u'abov', u'absolut', u'accord', u'ad', u'ahead', u'also', u'alt', u'amp', u'analyt', u'ani', u'anoth', u'answer', u'anywher', u'appli']\n"
     ]
    }
   ],
   "source": [
    "vocabulary = []\n",
    "for q in questions_train:\n",
    "    vocabulary += words_stemmed_no_stop(words_from_question(q))\n",
    "vocabulary_sorted = sorted(set(vocabulary))\n",
    "print('Number of distinct words:', len(vocabulary_sorted))\n",
    "print(vocabulary_sorted[:15])"
   ]
  },
  {
   "cell_type": "code",
   "execution_count": 53,
   "metadata": {
    "collapsed": true
   },
   "outputs": [],
   "source": [
    "def question_to_vector(q, voc):\n",
    "    x_vec = np.zeros(len(voc))\n",
    "    words = words_stemmed_no_stop(words_from_question(q))\n",
    "    for word in words:\n",
    "        if word in voc:\n",
    "            x_vec[voc.index(word)] = 1\n",
    "    return x_vec"
   ]
  },
  {
   "cell_type": "code",
   "execution_count": 55,
   "metadata": {
    "collapsed": false
   },
   "outputs": [
    {
     "data": {
      "text/plain": [
       "20.0"
      ]
     },
     "execution_count": 55,
     "metadata": {},
     "output_type": "execute_result"
    }
   ],
   "source": [
    "sum(question_to_vector(questions[0], vocabulary))"
   ]
  },
  {
   "cell_type": "code",
   "execution_count": 56,
   "metadata": {
    "collapsed": false
   },
   "outputs": [
    {
     "data": {
      "text/plain": [
       "{u'ID': u'UBC+MATH307+December_2008+06_(b)',\n",
       " u'_id': ObjectId('554c104898cccfa52bc9bab6'),\n",
       " u'answer_html': u'<p>Therefore, the matrix <span class=\"math\">\\\\(Q+iI\\\\)</span> is invertible.</p>\\n',\n",
       " u'answer_latex': u'Therefore, the matrix $Q+iI$ is invertible.',\n",
       " u'contributors': [u'IainMoyles', u'Konradbe'],\n",
       " u'course': u'MATH307',\n",
       " u'flags': [u'QGQ', u'QGH', u'QGS', u'RT'],\n",
       " u'hints_html': [u'<p>Think eigenvalues and recall part (a).</p>\\n'],\n",
       " u'hints_latex': [u'Think eigenvalues and recall part (a).'],\n",
       " u'hints_raw': [u'Think eigenvalues and recall part (a).'],\n",
       " u'num_votes': 0,\n",
       " u'question': u'6 (b)',\n",
       " u'rating': -1,\n",
       " u'sols_html': [u'<p>Recall the definition of the eigenvalue, we know that <span class=\"math\">\\\\(-i\\\\)</span> is one of Q<span class=\"math\">\\\\(^{\\\\prime}\\\\)</span>s eigenvalues when <span class=\"math\">\\\\(det(Q+iI)=0\\\\)</span>, and <span class=\"math\">\\\\(Q+iI\\\\)</span> is invertible if and only if <span class=\"math\">\\\\(det(Q+iI)\\\\neq 0\\\\)</span>. From <span>part a</span>, we know that Q is a symmetric matrix. A symmetric matrix will only have real eigenvalues and since <span class=\"math\">\\\\(-i\\\\)</span> is not real, it is not an eigenvalue of Q and <span class=\"math\">\\\\(det(Q+iI)\\\\)</span> is never equal to zero.</p>\\n<p>Therefore, the matrix <span class=\"math\">\\\\(Q+iI\\\\)</span> is invertible.</p>\\n'],\n",
       " u'sols_latex': [u'Recall the definition of the eigenvalue, we know that $-i$ is one of\\nQ$^{\\\\prime}$s eigenvalues when $det(Q+iI)=0$, and $Q+iI$ is invertible\\nif and only if $det(Q+iI)\\\\neq 0$. From\\n{part\\na}, we know that Q is a symmetric matrix. A symmetric matrix will only\\nhave real eigenvalues and since $-i$ is not real, it is not an\\neigenvalue of Q and $det(Q+iI)$ is never equal to zero.\\n\\nTherefore, the matrix $Q+iI$ is invertible.'],\n",
       " u'sols_raw': [u'Recall the definition of the eigenvalue, we know that &lt;math>-i&lt;/math> is one of Q\\u2019s eigenvalues when &lt;math>det(Q+iI)=0&lt;/math>, and &lt;math>Q+iI&lt;/math> is invertible if and only if &lt;math>det(Q+iI)\\\\neq 0&lt;/math>.  From [[Science:Math_Exam_Resources/Courses/MATH307/December_2008/Question_06_(a)|part a]], we know that Q is a symmetric matrix.  A symmetric matrix will only have real eigenvalues and since &lt;math>-i&lt;/math> is not real, it is not an eigenvalue of Q and &lt;math>det(Q+iI)&lt;/math> is never equal to zero.\\n\\nTherefore, the matrix &lt;math>Q+iI&lt;/math> is invertible.'],\n",
       " u'solvers': [u'CarmenBruni'],\n",
       " u'statement_html': u'<p>Let <em>u</em> be a unit vector and <em>Q = I - 2uu<sup>T</sup></em>. Show:</p>\\n<p><strong>(b)</strong> The matrix <em>Q + iI</em> is invertible.</p>\\n',\n",
       " u'statement_latex': u'Let \\\\emph{u} be a unit vector and \\\\emph{Q = I - 2uu\\\\textsuperscript{T}}.\\nShow:\\n\\n\\\\textbf{(b)} The matrix \\\\emph{Q + iI} is invertible.',\n",
       " u'statement_raw': u\"Let ''u'' be a unit vector and ''Q = I - 2uu&lt;sup>T&lt;/sup>''. Show:\\n\\n'''(b)''' The matrix ''Q + iI'' is invertible.\",\n",
       " u'term': u'December',\n",
       " u'topics': [u'Eigenvalues_and_eigenvectors'],\n",
       " u'url': u'http://wiki.ubc.ca/Science:Math_Exam_Resources/Courses/MATH307/December_2008/Question_06_(b)',\n",
       " u'year': 2008}"
      ]
     },
     "execution_count": 56,
     "metadata": {},
     "output_type": "execute_result"
    }
   ],
   "source": [
    "questions[0]"
   ]
  },
  {
   "cell_type": "code",
   "execution_count": null,
   "metadata": {
    "collapsed": true
   },
   "outputs": [],
   "source": []
  }
 ],
 "metadata": {
  "kernelspec": {
   "display_name": "Python 2",
   "language": "python",
   "name": "python2"
  },
  "language_info": {
   "codemirror_mode": {
    "name": "ipython",
    "version": 2
   },
   "file_extension": ".py",
   "mimetype": "text/x-python",
   "name": "python",
   "nbconvert_exporter": "python",
   "pygments_lexer": "ipython2",
   "version": "2.7.9"
  }
 },
 "nbformat": 4,
 "nbformat_minor": 0
}
